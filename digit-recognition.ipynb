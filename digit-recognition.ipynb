{
 "cells": [
  {
   "cell_type": "markdown",
   "metadata": {},
   "source": [
    "# MNIST Prediction with Artificial Neural Network\n",
    "\n",
    "- MNIST dataset: is a dataset of 60,000 28x28 grayscale images of the 10 digits, along with a test set of 10,000 images. More info can be found at the [MNIST homepage](http://yann.lecun.com/exdb/mnist/).\n",
    "- Goal: build a simple artificial neural network to predict the digit in the images.\n",
    "- Reference: [Oddly Satisfying Deep Learning](https://pythonandml.github.io/dlbook/content/convolutional_neural_networks/cnn_over_mlp.html)"
   ]
  },
  {
   "cell_type": "markdown",
   "metadata": {},
   "source": [
    "#### Import libraries"
   ]
  },
  {
   "cell_type": "code",
   "execution_count": 137,
   "metadata": {},
   "outputs": [],
   "source": [
    "# for linear algebra\n",
    "import numpy as np\n",
    "\n",
    "# for plotting data, loss, accuracy\n",
    "import matplotlib.pyplot as plt\n",
    "\n",
    "# loading mnist dataset from keras\n",
    "from keras import datasets\n",
    "\n",
    "# show progress bar\n",
    "from tqdm import tqdm\n",
    "\n",
    "# for type hinting\n",
    "from typing import Optional"
   ]
  },
  {
   "cell_type": "markdown",
   "metadata": {},
   "source": [
    "## 1. Utility Functions\n",
    "\n",
    "1. **plot_data**: plot the random 8 images from the dataset.\n",
    "2. **Activation Functions**: Linear, reLU, Sigmoid, Tanh, Softmax.\n",
    "3. **Weight Initialization**: Zeros, Ones, Random, Random Uniform.\n",
    "4. **Optimization Functions**: Gradient Descent, Stochastic Gradient Descent, RMSprop, Adam."
   ]
  },
  {
   "cell_type": "code",
   "execution_count": 138,
   "metadata": {},
   "outputs": [],
   "source": [
    "class BaseLayer:\n",
    "    def __init__(self) -> None:\n",
    "        self.input = None\n",
    "        self.output = None\n",
    "\n",
    "    def forward(self, X: np.ndarray) -> np.ndarray:\n",
    "        \"\"\"\n",
    "        :param X: input data\n",
    "\n",
    "        :return: output of the layer\n",
    "        \"\"\"\n",
    "        pass\n",
    "\n",
    "    def backpropagation(self, dZ: np.ndarray, lr: int) -> np.ndarray:\n",
    "        \"\"\"\n",
    "        :param dZ: gradient of the loss with respect to the linear output of this layer\n",
    "        :param lr: learning rate\n",
    "\n",
    "        :return: update parameters and input gradient\n",
    "        \"\"\"\n",
    "        pass"
   ]
  },
  {
   "cell_type": "markdown",
   "metadata": {},
   "source": [
    "### 1.1. Plotting Functions"
   ]
  },
  {
   "cell_type": "code",
   "execution_count": 139,
   "metadata": {},
   "outputs": [],
   "source": [
    "def plot_data(\n",
    "    X: np.ndarray, y: np.ndarray, y_proba: Optional[np.ndarray] = None\n",
    ") -> None:\n",
    "    nrows, ncols = 2, 4\n",
    "    _, axes = plt.subplots(nrows, ncols, figsize=(8, 4))\n",
    "\n",
    "    len_x = X.shape[0]\n",
    "    for idx in range(nrows * ncols):\n",
    "        ax = axes[idx // ncols, idx % ncols]\n",
    "\n",
    "        img_idx = np.random.randint(0, len_x)\n",
    "\n",
    "        ax.imshow(X[img_idx], cmap=\"gray\")\n",
    "        ax.set(xticks=[], yticks=[])\n",
    "\n",
    "        true_label = f\"True: {y[img_idx]}\"\n",
    "        color = \"black\"\n",
    "\n",
    "        if y_proba is not None:\n",
    "            pred_label = f\"Pred: {y_proba[img_idx]}\"\n",
    "            color = \"green\" if y[img_idx] == y_proba[img_idx] else \"red\"\n",
    "\n",
    "        img_title = true_label if y_proba is None else f\"{true_label}\\n{pred_label}\"\n",
    "        ax.set_xlabel(img_title, color=color)\n",
    "\n",
    "    plt.tight_layout()\n",
    "    plt.show()"
   ]
  },
  {
   "cell_type": "markdown",
   "metadata": {},
   "source": [
    "### 1.2. Activation Functions and Their Derivatives class\n",
    "\n",
    "- Sigmoid function: $\\sigma(z) = \\frac{1}{1 + e^{-z}}$\n",
    "- Derivative of sigmoid function: $\\sigma'(z) = \\sigma(z)(1 - \\sigma(z))$\n",
    "\n",
    "- ReLU function: $f(z) = \\max(0, z)$\n",
    "- Derivative of ReLU function: $f'(z) = 0$ if $z < 0$ and $f'(z) = 1$ if $z \\geq 0$\n",
    "\n",
    "- Tanh function: $\\tanh(z) = \\frac{e^z - e^{-z}}{e^z + e^{-z}}$\n",
    "- Derivative of tanh function: $\\tanh'(z) = 1 - \\tanh^2(z)$"
   ]
  },
  {
   "cell_type": "code",
   "execution_count": 216,
   "metadata": {},
   "outputs": [],
   "source": [
    "class Activation(BaseLayer):\n",
    "    def __init__(self, act: str = None) -> None:\n",
    "        if act is None:\n",
    "            self.act = \"relu\"\n",
    "        else:\n",
    "            self.act = act\n",
    "\n",
    "    def linear(self, x: np.ndarray) -> np.ndarray:\n",
    "        return x\n",
    "\n",
    "    def d_linear(self, x: np.ndarray) -> np.ndarray:\n",
    "        return np.ones(x.shape)\n",
    "\n",
    "    def reLU(self, x: np.ndarray) -> np.ndarray:\n",
    "        return x * (x > 0)\n",
    "\n",
    "    def d_reLU(self, x: np.ndarray) -> np.ndarray:\n",
    "        return (x > 0) * np.ones(x.shape)\n",
    "\n",
    "    def sigmoid(self, x: np.ndarray) -> np.ndarray:\n",
    "        return 1 / (1 + np.exp(-x))\n",
    "\n",
    "    def d_sigmoid(self, x: np.ndarray) -> np.ndarray:\n",
    "        return self.sigmoid(x) * (1 - self.sigmoid(x))\n",
    "\n",
    "    def tanh(self, x: np.ndarray) -> np.ndarray:\n",
    "        return np.tanh(x)\n",
    "\n",
    "    def d_tanh(self, x: np.ndarray) -> np.ndarray:\n",
    "        return 1 - self.tanh(x) ** 2\n",
    "\n",
    "    def get_activation(self, X: np.ndarray) -> np.ndarray:\n",
    "        if self.act == \"linear\":\n",
    "            return self.linear(X)\n",
    "        elif self.act == \"sigmoid\":\n",
    "            return self.sigmoid(X)\n",
    "        elif self.act == \"tanh\":\n",
    "            return self.tanh(X)\n",
    "        elif self.act == \"reLU\":\n",
    "            return self.reLU(X)\n",
    "        else:\n",
    "            raise ValueError(\"Activation function not recognized\")\n",
    "\n",
    "    def get_d_activation(self, X: np.ndarray) -> np.ndarray:\n",
    "        if self.act == \"linear\":\n",
    "            return self.d_linear(X)\n",
    "        elif self.act == \"sigmoid\":\n",
    "            return self.d_sigmoid(X)\n",
    "        elif self.act == \"tanh\":\n",
    "            return self.d_tanh(X)\n",
    "        elif self.act == \"reLU\":\n",
    "            return self.d_reLU(X)\n",
    "        else:\n",
    "            raise ValueError(\"Activation function not recognized\")\n",
    "\n",
    "    def forward(self, X: np.ndarray) -> np.ndarray:\n",
    "        self.X = X\n",
    "        return self.get_activation(X)\n",
    "\n",
    "    def backpropagation(self, dZ: np.ndarray, lr: float) -> np.ndarray:\n",
    "        return np.multiply(dZ, self.get_d_activation(self.X))"
   ]
  },
  {
   "cell_type": "markdown",
   "metadata": {},
   "source": [
    "### 1.3. Weight Initialization class\n",
    "\n",
    "- Zeros initialization: $w = np.zeros(shape)$\n",
    "- Ones initialization: $w = np.ones(shape)$\n",
    "- Random initialization: $w = np.random.randn(shape)$\n",
    "- Random uniform initialization: $w = np.random.uniform(size=shape)$"
   ]
  },
  {
   "cell_type": "code",
   "execution_count": 141,
   "metadata": {},
   "outputs": [],
   "source": [
    "class WeightInitializer(BaseLayer):\n",
    "    def __init__(self, shape, init: str = None, seed: int = None) -> None:\n",
    "        \"\"\"\n",
    "        :param shape: shape of the weight matrix\n",
    "        :param init: type of initialization (available initializations: zeros, ones, random, random_uniform)\n",
    "        :param seed: seed for random initialization\n",
    "        \"\"\"\n",
    "        self.shape = shape\n",
    "\n",
    "        if init is None:\n",
    "            self.init = \"random\"\n",
    "        else:\n",
    "            self.init = init\n",
    "\n",
    "        if seed is None:\n",
    "            self.seed = 69\n",
    "        else:\n",
    "            self.seed = seed\n",
    "\n",
    "    def zeros(self) -> np.ndarray:\n",
    "        return np.zeros(self.shape)\n",
    "\n",
    "    def ones(self) -> np.ndarray:\n",
    "        return np.ones(self.shape)\n",
    "\n",
    "    def random(self) -> np.ndarray:\n",
    "        np.random.seed(self.seed)\n",
    "        return np.random.randn(*self.shape)\n",
    "\n",
    "    def random_uniform(self) -> np.ndarray:\n",
    "        np.random.seed(self.seed)\n",
    "        return np.random.uniform(size=self.shape)\n",
    "\n",
    "    def get_initializer(self) -> np.ndarray:\n",
    "        if self.init == \"zeros\":\n",
    "            return self.zeros()\n",
    "        elif self.init == \"ones\":\n",
    "            return self.ones()\n",
    "        elif self.init == \"random\":\n",
    "            return self.random()\n",
    "        elif self.init == \"random_uniform\":\n",
    "            return self.random_uniform()\n",
    "        else:\n",
    "            raise ValueError(\n",
    "                \"Valid initializations are: zeros, ones, random, random_uniform\"\n",
    "            )"
   ]
  },
  {
   "cell_type": "markdown",
   "metadata": {},
   "source": [
    "### 1.4.  Optimizers class\n",
    "\n",
    "- Gradient Descent Optimizer: $w = w - \\alpha \\nabla_w L(w)$\n",
    "- Stochastic Gradient Descent Optimizer: $w = w - \\alpha \\nabla_w L(w)$\n",
    "- RMSprop Optimizer: $v = \\beta v + (1 - \\beta) \\nabla_w L(w) \\odot \\nabla_w L(w)$ and $w = w - \\alpha \\frac{\\nabla_w L(w)}{\\sqrt{v + \\epsilon}}$\n",
    "- Adam Optimizer: $m = \\beta_1 m + (1 - \\beta_1) \\nabla_w L(w)$, $v = \\beta_2 v + (1 - \\beta_2) \\nabla_w L(w) \\odot \\nabla_w L(w)$, $m_{\\text{corrected}} = \\frac{m}{1 - \\beta_1^t}$, $v_{\\text{corrected}} = \\frac{v}{1 - \\beta_2^t}$, and $w = w - \\alpha \\frac{m_{\\text{corrected}}}{\\sqrt{v_{\\text{corrected}} + \\epsilon}}$\n",
    "\n",
    "> Note: Actually, i only use the Gradient Descent Optimizer in this notebook."
   ]
  },
  {
   "cell_type": "code",
   "execution_count": 142,
   "metadata": {},
   "outputs": [],
   "source": [
    "class Optimizer:\n",
    "    def __init__(\n",
    "        self,\n",
    "        op_type: str = None,\n",
    "        shape_W: tuple[int, int] = None,\n",
    "        shape_b: tuple[int, int] = None,\n",
    "        m1: float = 0.9,\n",
    "        m2: float = 0.999,\n",
    "        epsilon: int = 1e-8,\n",
    "    ) -> None:\n",
    "        \"\"\"\n",
    "        :param op_type: type of optimizer (available optimizers: GD, SGD, RMSProp, Adam)\n",
    "        :param shape_W: shape of the weight matrix\n",
    "        :param shape_b: shape of the bias matrix\n",
    "        :param m1: hyperparameter >= 0 that accelerates gradient descent in the relevant direction and dampens oscillations. Used in RMSprop\n",
    "        :param m2: hyperparameter for adam only\n",
    "        :param epsilon: parameter used in adam and RMSprop to prevent division by zero error\n",
    "        \"\"\"\n",
    "        if op_type is None:\n",
    "            self.op_type = \"GD\"\n",
    "        else:\n",
    "            self.op_type = op_type\n",
    "\n",
    "        self.m1 = m1\n",
    "        self.m2 = m2\n",
    "        self.epsilon = epsilon\n",
    "\n",
    "        self.vdW = np.zeros(shape_W)\n",
    "        self.vdb = np.zeros(shape_b)\n",
    "\n",
    "        self.SdW = np.zeros(shape_W)\n",
    "        self.Sdb = np.zeros(shape_b)\n",
    "\n",
    "    def GD(self, dW: np.ndarray, db: np.ndarray, _: int) -> tuple:\n",
    "        \"\"\"\n",
    "        :param dW: gradient of Weight W for iteration k\n",
    "        :param db: gradient of bias b for iteration k\n",
    "        :param k: iteration number\n",
    "        \"\"\"\n",
    "        return dW, db\n",
    "\n",
    "    def SGD(self, dW: np.ndarray, db: np.ndarray, _: int) -> tuple:\n",
    "        \"\"\"\n",
    "        :param dW: gradient of Weight W for iteration k\n",
    "        :param db: gradient of bias b for iteration k\n",
    "        :param k: iteration number\n",
    "        \"\"\"\n",
    "        self.vdW = self.momentum1 * self.vdW + (1 - self.momentum1) * dW\n",
    "        self.vdb = self.momentum1 * self.vdb + (1 - self.momentum1) * db\n",
    "\n",
    "        return self.vdW, self.vdb\n",
    "\n",
    "    def RMSProp(self, dW: np.ndarray, db: np.ndarray, _: int) -> tuple:\n",
    "        \"\"\"\n",
    "        :param dW: gradient of Weight W for iteration k\n",
    "        :param db: gradient of bias b for iteration k\n",
    "        :param k: iteration number\n",
    "        \"\"\"\n",
    "        self.SdW = self.momentum2 * self.SdW + (1 - self.momentum2) * (dW**2)\n",
    "        self.Sdb = self.momentum2 * self.Sdb + (1 - self.momentum2) * (db**2)\n",
    "\n",
    "        den_W = np.sqrt(self.SdW) + self.epsilon\n",
    "        den_b = np.sqrt(self.Sdb) + self.epsilon\n",
    "\n",
    "        return dW / den_W, db / den_b\n",
    "\n",
    "    def Adam(self, dW: np.ndarray, db: np.ndarray, k: int) -> tuple:\n",
    "        \"\"\"\n",
    "        :param dW: gradient of Weight W for iteration k\n",
    "        :param db: gradient of bias b for iteration k\n",
    "        :param k: iteration number\n",
    "        \"\"\"\n",
    "        # momentum\n",
    "        self.vdW = self.momentum1 * self.vdW + (1 - self.momentum1) * dW\n",
    "        self.vdb = self.momentum1 * self.vdb + (1 - self.momentum1) * db\n",
    "\n",
    "        # rmsprop\n",
    "        self.SdW = self.momentum2 * self.SdW + (1 - self.momentum2) * (dW**2)\n",
    "        self.Sdb = self.momentum2 * self.Sdb + (1 - self.momentum2) * (db**2)\n",
    "\n",
    "        # correction\n",
    "        if k > 1:\n",
    "            vdW_h = self.vdW / (1 - (self.momentum1**k))\n",
    "            vdb_h = self.vdb / (1 - (self.momentum1**k))\n",
    "            SdW_h = self.SdW / (1 - (self.momentum2**k))\n",
    "            Sdb_h = self.Sdb / (1 - (self.momentum2**k))\n",
    "        else:\n",
    "            vdW_h = self.vdW\n",
    "            vdb_h = self.vdb\n",
    "            SdW_h = self.SdW\n",
    "            Sdb_h = self.Sdb\n",
    "\n",
    "        den_W = np.sqrt(SdW_h) + self.epsilon\n",
    "        den_b = np.sqrt(Sdb_h) + self.epsilon\n",
    "\n",
    "        return vdW_h / den_W, vdb_h / den_b\n",
    "\n",
    "    def get_optimizer(self, dW: np.ndarray, db: np.ndarray, k: int) -> tuple:\n",
    "        if self.op_type == \"GD\":\n",
    "            return self.GD(dW, db, k)\n",
    "        elif self.op_type == \"SGD\":\n",
    "            return self.SGD(dW, db, k)\n",
    "        elif self.op_type == \"RMSProp\":\n",
    "            return self.RMSProp(dW, db, k)\n",
    "        elif self.op_type == \"Adam\":\n",
    "            return self.Adam(dW, db, k)\n",
    "        else:\n",
    "            raise ValueError(\"Valid optiomizers are GD, SGD, RMSProp, Adam\")"
   ]
  },
  {
   "cell_type": "markdown",
   "metadata": {},
   "source": [
    "### 1.5. Mean Squared Error class"
   ]
  },
  {
   "cell_type": "code",
   "execution_count": 202,
   "metadata": {},
   "outputs": [],
   "source": [
    "class MSE:\n",
    "    def __init__(self, y_true: np.ndarray, y_pred: np.ndarray) -> None:\n",
    "        \"\"\"\n",
    "        :param y_true: true labels\n",
    "        :param y_pred: predicted labels\n",
    "        \"\"\"\n",
    "        self.y_true = y_true\n",
    "        self.y_pred = y_pred\n",
    "\n",
    "    def forward(self) -> float:\n",
    "        return np.mean(np.power(self.y_true - self.y_pred, 2))\n",
    "\n",
    "    def backpropagation(self) -> np.ndarray:\n",
    "        return 2 * (self.y_pred - self.y_true) / np.size(self.y_true)"
   ]
  },
  {
   "cell_type": "markdown",
   "metadata": {},
   "source": [
    "## 2. Load Data\n",
    "\n",
    "- Load the MNIST dataset from the `keras.datasets.mnist` module.\n",
    "- Split the dataset into training and testing sets."
   ]
  },
  {
   "cell_type": "code",
   "execution_count": 144,
   "metadata": {},
   "outputs": [],
   "source": [
    "(X_train, y_train), (X_test, y_test) = datasets.mnist.load_data()"
   ]
  },
  {
   "cell_type": "code",
   "execution_count": 145,
   "metadata": {},
   "outputs": [
    {
     "data": {
      "image/png": "[encoded data removed]",
      "text/plain": [
       "<Figure size 800x400 with 8 Axes>"
      ]
     },
     "metadata": {},
     "output_type": "display_data"
    }
   ],
   "source": [
    "plot_data(X_train, y_train)"
   ]
  },
  {
   "cell_type": "markdown",
   "metadata": {},
   "source": [
    "## 3. Image Preprocessing\n",
    "\n",
    "- Normalize the images by dividing each pixel by 255.\n",
    "- Add channel dimension to the images.\n",
    "- Convert y to one-hot encoding."
   ]
  },
  {
   "cell_type": "code",
   "execution_count": 146,
   "metadata": {},
   "outputs": [],
   "source": [
    "# Convert to float32 and scale to [0, 1]\n",
    "X_train = X_train.astype(np.float32) / 255.0\n",
    "X_test = X_test.astype(np.float32) / 255.0"
   ]
  },
  {
   "cell_type": "code",
   "execution_count": 147,
   "metadata": {},
   "outputs": [],
   "source": [
    "# Add channel dimension\n",
    "X_train = np.expand_dims(X_train, -1)\n",
    "X_test = np.expand_dims(X_test, -1)"
   ]
  },
  {
   "cell_type": "code",
   "execution_count": 148,
   "metadata": {},
   "outputs": [
    {
     "name": "stdout",
     "output_type": "stream",
     "text": [
      "x_train shape: (60000, 28, 28, 1)\n",
      "X_test shape: (10000, 28, 28, 1)\n"
     ]
    }
   ],
   "source": [
    "print(\"x_train shape:\", X_train.shape)\n",
    "print(\"X_test shape:\", X_test.shape)"
   ]
  },
  {
   "cell_type": "code",
   "execution_count": 149,
   "metadata": {},
   "outputs": [],
   "source": [
    "\"\"\"Conver y to one-hot encoding. Example:\n",
    "y = 2 -> [0, 0, 1, 0, 0, 0, 0, 0, 0, 0]\n",
    "y = 3 -> [0, 0, 0, 1, 0, 0, 0, 0, 0, 0]\n",
    "\"\"\"\n",
    "\n",
    "y_train = np.eye(10)[y_train]\n",
    "y_test = np.eye(10)[y_test]"
   ]
  },
  {
   "cell_type": "code",
   "execution_count": 150,
   "metadata": {},
   "outputs": [
    {
     "name": "stdout",
     "output_type": "stream",
     "text": [
      "y_train shape: (60000, 10)\n",
      "y_test shape: (10000, 10)\n"
     ]
    }
   ],
   "source": [
    "print(\"y_train shape:\", y_train.shape)\n",
    "print(\"y_test shape:\", y_test.shape)"
   ]
  },
  {
   "cell_type": "markdown",
   "metadata": {},
   "source": [
    "## 4. Artificial Neural Network"
   ]
  },
  {
   "cell_type": "markdown",
   "metadata": {},
   "source": [
    "### 4.1. With Convolutional Neural Network"
   ]
  },
  {
   "cell_type": "markdown",
   "metadata": {},
   "source": [
    "#### 4.1.1. Dense Layer"
   ]
  },
  {
   "cell_type": "code",
   "execution_count": 224,
   "metadata": {},
   "outputs": [],
   "source": [
    "class Dense(BaseLayer):\n",
    "    def __init__(self, input_size, output_size):\n",
    "        self.weights = np.random.randn(output_size, input_size)\n",
    "        self.bias = np.random.randn(output_size, 1)\n",
    "\n",
    "    def forward(self, input):\n",
    "        self.input = input\n",
    "        return np.dot(self.weights, self.input) + self.bias\n",
    "\n",
    "    def backward(self, output_gradient, learning_rate):\n",
    "        weights_gradient = np.dot(output_gradient, self.input.T)\n",
    "        input_gradient = np.dot(self.weights.T, output_gradient)\n",
    "        self.weights -= learning_rate * weights_gradient\n",
    "        self.bias -= learning_rate * output_gradient\n",
    "        return input_gradient"
   ]
  },
  {
   "cell_type": "markdown",
   "metadata": {},
   "source": [
    "> Testing MLB Model with XOR Dataset"
   ]
  },
  {
   "cell_type": "code",
   "execution_count": 225,
   "metadata": {},
   "outputs": [
    {
     "ename": "ValueError",
     "evalue": "shapes (3,1) and (2,1) not aligned: 1 (dim 1) != 2 (dim 0)",
     "output_type": "error",
     "traceback": [
      "\u001b[0;31m---------------------------------------------------------------------------\u001b[0m",
      "\u001b[0;31mValueError\u001b[0m                                Traceback (most recent call last)",
      "Cell \u001b[0;32mIn[225], line 14\u001b[0m\n\u001b[1;32m     12\u001b[0m output \u001b[38;5;241m=\u001b[39m x\n\u001b[1;32m     13\u001b[0m \u001b[38;5;28;01mfor\u001b[39;00m layer \u001b[38;5;129;01min\u001b[39;00m network:\n\u001b[0;32m---> 14\u001b[0m     output \u001b[38;5;241m=\u001b[39m \u001b[43mlayer\u001b[49m\u001b[38;5;241;43m.\u001b[39;49m\u001b[43mforward\u001b[49m\u001b[43m(\u001b[49m\u001b[43moutput\u001b[49m\u001b[43m)\u001b[49m\n\u001b[1;32m     16\u001b[0m \u001b[38;5;66;03m# error\u001b[39;00m\n\u001b[1;32m     17\u001b[0m mse \u001b[38;5;241m=\u001b[39m MSE(y, output)\n",
      "Cell \u001b[0;32mIn[224], line 8\u001b[0m, in \u001b[0;36mDense.forward\u001b[0;34m(self, input)\u001b[0m\n\u001b[1;32m      6\u001b[0m \u001b[38;5;28;01mdef\u001b[39;00m \u001b[38;5;21mforward\u001b[39m(\u001b[38;5;28mself\u001b[39m, \u001b[38;5;28minput\u001b[39m):\n\u001b[1;32m      7\u001b[0m     \u001b[38;5;28mself\u001b[39m\u001b[38;5;241m.\u001b[39minput \u001b[38;5;241m=\u001b[39m \u001b[38;5;28minput\u001b[39m\n\u001b[0;32m----> 8\u001b[0m     \u001b[38;5;28;01mreturn\u001b[39;00m \u001b[43mnp\u001b[49m\u001b[38;5;241;43m.\u001b[39;49m\u001b[43mdot\u001b[49m\u001b[43m(\u001b[49m\u001b[38;5;28;43mself\u001b[39;49m\u001b[38;5;241;43m.\u001b[39;49m\u001b[43mweights\u001b[49m\u001b[43m,\u001b[49m\u001b[43m \u001b[49m\u001b[38;5;28;43mself\u001b[39;49m\u001b[38;5;241;43m.\u001b[39;49m\u001b[43minput\u001b[49m\u001b[43m)\u001b[49m \u001b[38;5;241m+\u001b[39m \u001b[38;5;28mself\u001b[39m\u001b[38;5;241m.\u001b[39mbias\n",
      "File \u001b[0;32m<__array_function__ internals>:180\u001b[0m, in \u001b[0;36mdot\u001b[0;34m(*args, **kwargs)\u001b[0m\n",
      "\u001b[0;31mValueError\u001b[0m: shapes (3,1) and (2,1) not aligned: 1 (dim 1) != 2 (dim 0)"
     ]
    }
   ],
   "source": [
    "X = np.reshape([[0, 0], [0, 1], [1, 0], [1, 1]], (4, 2, 1))\n",
    "y = np.reshape([[0], [1], [1], [0]], (4, 1, 1))\n",
    "\n",
    "network = [Dense(1, 3), Activation(\"tanh\"), Dense(1, 1), Activation(\"tanh\")]\n",
    "epochs = 10\n",
    "learning_rate = 0.1\n",
    "\n",
    "for e in range(epochs):\n",
    "    error = 0\n",
    "    for x, y in zip(X, y):\n",
    "        # forward\n",
    "        output = x\n",
    "        for layer in network:\n",
    "            output = layer.forward(output)\n",
    "\n",
    "        # error\n",
    "        mse = MSE(y, output)\n",
    "        error += mse.forward()\n",
    "\n",
    "        # backward\n",
    "        grad = mse.backpropagation()\n",
    "        for layer in reversed(network):\n",
    "            grad = layer.backpropagation(grad, learning_rate)\n",
    "\n",
    "    error /= len(X)\n",
    "    print(f\"{e + 1}/{epochs}, error={error}\")"
   ]
  },
  {
   "cell_type": "markdown",
   "metadata": {},
   "source": [
    "### 4.2 With Keras"
   ]
  },
  {
   "cell_type": "code",
   "execution_count": 152,
   "metadata": {},
   "outputs": [],
   "source": [
    "from keras import models, layers"
   ]
  },
  {
   "cell_type": "code",
   "execution_count": 153,
   "metadata": {},
   "outputs": [],
   "source": [
    "inp_shape = X_train.shape[1:]"
   ]
  },
  {
   "cell_type": "code",
   "execution_count": 154,
   "metadata": {},
   "outputs": [
    {
     "name": "stdout",
     "output_type": "stream",
     "text": [
      "Model: \"sequential_4\"\n",
      "_________________________________________________________________\n",
      "Layer (type)                 Output Shape              Param #   \n",
      "=================================================================\n",
      "flatten_4 (Flatten)          (None, 784)               0         \n",
      "_________________________________________________________________\n",
      "dense_12 (Dense)             (None, 512)               401920    \n",
      "_________________________________________________________________\n",
      "dense_13 (Dense)             (None, 256)               131328    \n",
      "_________________________________________________________________\n",
      "dense_14 (Dense)             (None, 10)                2570      \n",
      "=================================================================\n",
      "Total params: 535,818\n",
      "Trainable params: 535,818\n",
      "Non-trainable params: 0\n",
      "_________________________________________________________________\n"
     ]
    }
   ],
   "source": [
    "model = models.Sequential(\n",
    "    [\n",
    "        layers.Flatten(input_shape=(28, 28)),\n",
    "        layers.Dense(512, activation=\"relu\"),\n",
    "        layers.Dense(256, activation=\"relu\"),\n",
    "        layers.Dense(10, activation=\"softmax\"),\n",
    "    ]\n",
    ")\n",
    "\n",
    "model.summary()"
   ]
  },
  {
   "cell_type": "code",
   "execution_count": 155,
   "metadata": {},
   "outputs": [],
   "source": [
    "model.compile(optimizer=\"adam\", loss=\"categorical_crossentropy\", metrics=\"accuracy\")"
   ]
  },
  {
   "cell_type": "code",
   "execution_count": 156,
   "metadata": {},
   "outputs": [
    {
     "name": "stdout",
     "output_type": "stream",
     "text": [
      "Epoch 1/5\n",
      "422/422 [==============================] - 1s 2ms/step - loss: 0.4347 - accuracy: 0.8741 - val_loss: 0.0991 - val_accuracy: 0.9688\n",
      "Epoch 2/5\n",
      "422/422 [==============================] - 1s 2ms/step - loss: 0.0869 - accuracy: 0.9728 - val_loss: 0.0722 - val_accuracy: 0.9775\n",
      "Epoch 3/5\n",
      " 66/422 [===>..........................] - ETA: 0s - loss: 0.0468 - accuracy: 0.9858"
     ]
    },
    {
     "name": "stdout",
     "output_type": "stream",
     "text": [
      "422/422 [==============================] - 1s 2ms/step - loss: 0.0532 - accuracy: 0.9832 - val_loss: 0.0751 - val_accuracy: 0.9760\n",
      "Epoch 4/5\n",
      "422/422 [==============================] - 1s 2ms/step - loss: 0.0360 - accuracy: 0.9889 - val_loss: 0.0812 - val_accuracy: 0.9777\n",
      "Epoch 5/5\n",
      "422/422 [==============================] - 1s 2ms/step - loss: 0.0262 - accuracy: 0.9921 - val_loss: 0.0768 - val_accuracy: 0.9777\n"
     ]
    }
   ],
   "source": [
    "batch_size = 128\n",
    "epochs = 5\n",
    "\n",
    "history = model.fit(\n",
    "    X_train, y_train, batch_size=batch_size, epochs=epochs, validation_split=0.1\n",
    ")"
   ]
  },
  {
   "cell_type": "markdown",
   "metadata": {},
   "source": [
    "#### 4.2.1. Model results"
   ]
  },
  {
   "cell_type": "code",
   "execution_count": 157,
   "metadata": {},
   "outputs": [],
   "source": [
    "history_dict = history.history"
   ]
  },
  {
   "cell_type": "code",
   "execution_count": 158,
   "metadata": {},
   "outputs": [
    {
     "data": {
      "text/plain": [
       "dict_keys(['loss', 'accuracy', 'val_loss', 'val_accuracy'])"
      ]
     },
     "execution_count": 158,
     "metadata": {},
     "output_type": "execute_result"
    }
   ],
   "source": [
    "history_dict.keys()"
   ]
  },
  {
   "cell_type": "code",
   "execution_count": 159,
   "metadata": {},
   "outputs": [],
   "source": [
    "train_loss, val_loss = history_dict[\"loss\"], history_dict[\"val_loss\"]\n",
    "train_acc, val_acc = history_dict[\"accuracy\"], history_dict[\"val_accuracy\"]"
   ]
  },
  {
   "cell_type": "code",
   "execution_count": 160,
   "metadata": {},
   "outputs": [
    {
     "data": {
      "image/png": "[encoded data removed]",
      "text/plain": [
       "<Figure size 1500x500 with 2 Axes>"
      ]
     },
     "metadata": {},
     "output_type": "display_data"
    }
   ],
   "source": [
    "fig, (ax1, ax2) = plt.subplots(1, 2, figsize=(15, 5))\n",
    "epochs_run = [i for i in range(epochs)]\n",
    "\n",
    "ax1.plot(epochs_run, train_loss, label=\"Training loss\")\n",
    "ax1.plot(epochs_run, val_loss, label=\"Validation loss\", marker=\"o\")\n",
    "\n",
    "ax1.set_title(\"Training and validation loss\")\n",
    "ax1.set_xlabel(\"Epochs\")\n",
    "ax1.set_ylabel(\"Loss\")\n",
    "ax1.legend()\n",
    "\n",
    "ax2.plot(epochs_run, train_acc, label=\"Training accuracy\")\n",
    "ax2.plot(epochs_run, val_acc, label=\"Validation accuracy\", marker=\"o\")\n",
    "\n",
    "ax2.set_title(\"Training and validation accuracy\")\n",
    "ax2.set_xlabel(\"Epochs\")\n",
    "ax2.set_ylabel(\"Accuracy\")\n",
    "ax2.legend()\n",
    "\n",
    "plt.show()"
   ]
  },
  {
   "cell_type": "markdown",
   "metadata": {},
   "source": [
    "#### 4.2.1. Model prediction"
   ]
  },
  {
   "cell_type": "code",
   "execution_count": 161,
   "metadata": {},
   "outputs": [
    {
     "name": "stdout",
     "output_type": "stream",
     "text": [
      "Test loss: 0.07233430445194244\n",
      "Test accuracy: 0.9782999753952026\n"
     ]
    }
   ],
   "source": [
    "score = model.evaluate(X_test, y_test, verbose=0)\n",
    "print(\"Test loss:\", score[0])\n",
    "print(\"Test accuracy:\", score[1])"
   ]
  },
  {
   "cell_type": "code",
   "execution_count": 162,
   "metadata": {},
   "outputs": [],
   "source": [
    "y_pred = model.predict(X_test)"
   ]
  },
  {
   "cell_type": "code",
   "execution_count": 163,
   "metadata": {},
   "outputs": [
    {
     "data": {
      "image/png": "[encoded data removed]",
      "text/plain": [
       "<Figure size 800x400 with 8 Axes>"
      ]
     },
     "metadata": {},
     "output_type": "display_data"
    }
   ],
   "source": [
    "plot_data(X_test, np.argmax(y_test, axis=1), np.argmax(y_pred, axis=1))"
   ]
  }
 ],
 "metadata": {
  "kernelspec": {
   "display_name": "digit-recognition",
   "language": "python",
   "name": "python3"
  },
  "language_info": {
   "codemirror_mode": {
    "name": "ipython",
    "version": 3
   },
   "file_extension": ".py",
   "mimetype": "text/x-python",
   "name": "python",
   "nbconvert_exporter": "python",
   "pygments_lexer": "ipython3",
   "version": "3.9.12"
  }
 },
 "nbformat": 4,
 "nbformat_minor": 2
}
