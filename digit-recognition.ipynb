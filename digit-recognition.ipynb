{
 "cells": [
  {
   "cell_type": "markdown",
   "metadata": {},
   "source": [
    "# MNIST Prediction with Artificial Neural Network\n",
    "\n",
    "- MNIST dataset: is a dataset of 60,000 28x28 grayscale images of the 10 digits, along with a test set of 10,000 images. More info can be found at the [MNIST homepage](http://yann.lecun.com/exdb/mnist/).\n",
    "- Goal: build a simple artificial neural network to predict the digit in the images.\n",
    "- Reference: [Oddly Satisfying Deep Learning](https://pythonandml.github.io/dlbook/content/convolutional_neural_networks/cnn_over_mlp.html)"
   ]
  },
  {
   "cell_type": "markdown",
   "metadata": {},
   "source": [
    "#### Import libraries"
   ]
  },
  {
   "cell_type": "code",
   "execution_count": 245,
   "metadata": {},
   "outputs": [],
   "source": [
    "# for linear algebra\n",
    "import numpy as np\n",
    "\n",
    "# for plotting data, loss, accuracy\n",
    "import matplotlib.pyplot as plt\n",
    "\n",
    "# for convolutional neural network\n",
    "from scipy import signal\n",
    "\n",
    "# loading mnist dataset from keras\n",
    "from keras import datasets\n",
    "\n",
    "# show progress bar\n",
    "from tqdm import tqdm\n",
    "\n",
    "# for type hinting\n",
    "from typing import Optional"
   ]
  },
  {
   "cell_type": "markdown",
   "metadata": {},
   "source": [
    "## 1. Utility Functions\n",
    "\n",
    "1. **plot_data**: plot the random 8 images from the dataset.\n",
    "2. **Activation Functions**: Linear, reLU, Sigmoid, Tanh, Softmax.\n",
    "3. **Weight Initialization**: Zeros, Ones, Random, Random Uniform.\n",
    "4. **Optimization Functions**: Gradient Descent, Stochastic Gradient Descent, RMSprop, Adam."
   ]
  },
  {
   "cell_type": "code",
   "execution_count": 246,
   "metadata": {},
   "outputs": [],
   "source": [
    "class BaseLayer:\n",
    "    def __init__(self):\n",
    "        self.input = None\n",
    "        self.output = None\n",
    "\n",
    "    def forward(self, X: np.ndarray) -> np.ndarray:\n",
    "        \"\"\"\n",
    "        :param X: input data\n",
    "        \"\"\"\n",
    "        # TODO: return output\n",
    "\n",
    "        pass\n",
    "\n",
    "    def backpropagation(self, dZ: np.ndarray, lr: float) -> np.ndarray:\n",
    "        \"\"\"\n",
    "        :param dZ: gradient of loss with respect to output\n",
    "        :param lr: learning rate\n",
    "        \"\"\"\n",
    "        # TODO: update parameters and return input gradient\n",
    "        pass"
   ]
  },
  {
   "cell_type": "markdown",
   "metadata": {},
   "source": [
    "### 1.1. Plotting Functions"
   ]
  },
  {
   "cell_type": "code",
   "execution_count": 247,
   "metadata": {},
   "outputs": [],
   "source": [
    "def plot_data(\n",
    "    X: np.ndarray, y: np.ndarray, y_proba: Optional[np.ndarray] = None\n",
    ") -> None:\n",
    "    nrows, ncols = 2, 4\n",
    "    _, axes = plt.subplots(nrows, ncols, figsize=(8, 4))\n",
    "\n",
    "    len_x = X.shape[0]\n",
    "    for idx in range(nrows * ncols):\n",
    "        ax = axes[idx // ncols, idx % ncols]\n",
    "\n",
    "        img_idx = np.random.randint(0, len_x)\n",
    "\n",
    "        ax.imshow(X[img_idx], cmap=\"gray\")\n",
    "        ax.set(xticks=[], yticks=[])\n",
    "\n",
    "        true_label = f\"True: {y[img_idx]}\"\n",
    "        color = \"black\"\n",
    "\n",
    "        if y_proba is not None:\n",
    "            pred_label = f\"Pred: {y_proba[img_idx]}\"\n",
    "            color = \"green\" if y[img_idx] == y_proba[img_idx] else \"red\"\n",
    "\n",
    "        img_title = true_label if y_proba is None else f\"{true_label}\\n{pred_label}\"\n",
    "        ax.set_xlabel(img_title, color=color)\n",
    "\n",
    "    plt.tight_layout()\n",
    "    plt.show()"
   ]
  },
  {
   "cell_type": "markdown",
   "metadata": {},
   "source": [
    "### 1.2. Activation Functions class"
   ]
  },
  {
   "cell_type": "code",
   "execution_count": 248,
   "metadata": {},
   "outputs": [],
   "source": [
    "class Activation(BaseLayer):\n",
    "    def __init__(self, act: str = \"relu\") -> None:\n",
    "        self.act = act\n",
    "\n",
    "    def linear(self, x: np.ndarray) -> np.ndarray:\n",
    "        return x\n",
    "\n",
    "    def d_linear(self, x: np.ndarray) -> np.ndarray:\n",
    "        return np.ones(x.shape)\n",
    "\n",
    "    def reLU(self, x: np.ndarray) -> np.ndarray:\n",
    "        return x * (x > 0)\n",
    "\n",
    "    def d_reLU(self, x: np.ndarray) -> np.ndarray:\n",
    "        return (x > 0) * np.ones(x.shape)\n",
    "\n",
    "    def sigmoid(self, x: np.ndarray) -> np.ndarray:\n",
    "        return 1 / (1 + np.exp(-x))\n",
    "\n",
    "    def d_sigmoid(self, x: np.ndarray) -> np.ndarray:\n",
    "        return self.sigmoid(x) * (1 - self.sigmoid(x))\n",
    "\n",
    "    def tanh(self, x: np.ndarray) -> np.ndarray:\n",
    "        return np.tanh(x)\n",
    "\n",
    "    def d_tanh(self, x: np.ndarray) -> np.ndarray:\n",
    "        return 1 - self.tanh(x) ** 2\n",
    "\n",
    "    def get_activation(self, X: np.ndarray) -> np.ndarray:\n",
    "        if self.act == \"linear\":\n",
    "            return self.linear(X)\n",
    "        elif self.act == \"sigmoid\":\n",
    "            return self.sigmoid(X)\n",
    "        elif self.act == \"tanh\":\n",
    "            return self.tanh(X)\n",
    "        elif self.act == \"reLU\":\n",
    "            return self.reLU(X)\n",
    "        else:\n",
    "            raise ValueError(\"Activation function not recognized\")\n",
    "\n",
    "    def get_d_activation(self, X: np.ndarray) -> np.ndarray:\n",
    "        if self.act == \"linear\":\n",
    "            return self.d_linear(X)\n",
    "        elif self.act == \"sigmoid\":\n",
    "            return self.d_sigmoid(X)\n",
    "        elif self.act == \"tanh\":\n",
    "            return self.d_tanh(X)\n",
    "        elif self.act == \"reLU\":\n",
    "            return self.d_reLU(X)\n",
    "        else:\n",
    "            raise ValueError(\"Activation function not recognized\")\n",
    "\n",
    "    def forward(self, X: np.ndarray) -> np.ndarray:\n",
    "        \"\"\"\n",
    "        :param X: input data\n",
    "        \"\"\"\n",
    "        self.X = X\n",
    "        return self.get_activation(X)\n",
    "\n",
    "    def backpropagation(self, dZ: np.ndarray, lr: float) -> np.ndarray:\n",
    "        \"\"\"\n",
    "        :param dZ: gradient of loss with respect to output\n",
    "        :param lr: learning rate\n",
    "        \"\"\"\n",
    "        return np.multiply(dZ, self.get_d_activation(self.X))"
   ]
  },
  {
   "cell_type": "markdown",
   "metadata": {},
   "source": [
    "### 1.3. Weight Initialization class\n",
    "\n",
    "- Zeros initialization: $w = np.zeros(shape)$\n",
    "- Ones initialization: $w = np.ones(shape)$\n",
    "- Random initialization: $w = np.random.randn(shape)$\n",
    "- Random uniform initialization: $w = np.random.uniform(size=shape)$"
   ]
  },
  {
   "cell_type": "code",
   "execution_count": 249,
   "metadata": {},
   "outputs": [],
   "source": [
    "class WeightInitializer:\n",
    "    def __init__(self, shape, init: str = \"random\", seed: int = 69) -> None:\n",
    "        \"\"\"\n",
    "        :param shape: shape of the weight matrix\n",
    "        :param init: type of initialization (available initializations: zeros, ones, random, random_uniform)\n",
    "        :param seed: seed for random initialization\n",
    "        \"\"\"\n",
    "        self.shape = shape\n",
    "        self.init = init\n",
    "        self.seed = seed\n",
    "\n",
    "    def zeros(self) -> np.ndarray:\n",
    "        return np.zeros(self.shape)\n",
    "\n",
    "    def ones(self) -> np.ndarray:\n",
    "        return np.ones(self.shape)\n",
    "\n",
    "    def random(self) -> np.ndarray:\n",
    "        np.random.seed(self.seed)\n",
    "        return np.random.randn(*self.shape)\n",
    "\n",
    "    def random_uniform(self) -> np.ndarray:\n",
    "        np.random.seed(self.seed)\n",
    "        return np.random.uniform(size=self.shape)\n",
    "\n",
    "    def get_initializer(self) -> np.ndarray:\n",
    "        if self.init == \"zeros\":\n",
    "            return self.zeros()\n",
    "        elif self.init == \"ones\":\n",
    "            return self.ones()\n",
    "        elif self.init == \"random\":\n",
    "            return self.random()\n",
    "        elif self.init == \"random_uniform\":\n",
    "            return self.random_uniform()\n",
    "        else:\n",
    "            raise ValueError(\n",
    "                \"Valid initializations are: zeros, ones, random, random_uniform\"\n",
    "            )"
   ]
  },
  {
   "cell_type": "markdown",
   "metadata": {},
   "source": [
    "### 1.4.  Optimizers class\n",
    "\n",
    "- Gradient Descent Optimizer: $w = w - \\alpha \\nabla_w L(w)$\n",
    "- Stochastic Gradient Descent Optimizer: $w = w - \\alpha \\nabla_w L(w)$\n",
    "- RMSprop Optimizer: $v = \\beta v + (1 - \\beta) \\nabla_w L(w) \\odot \\nabla_w L(w)$ and $w = w - \\alpha \\frac{\\nabla_w L(w)}{\\sqrt{v + \\epsilon}}$\n",
    "- Adam Optimizer: $m = \\beta_1 m + (1 - \\beta_1) \\nabla_w L(w)$, $v = \\beta_2 v + (1 - \\beta_2) \\nabla_w L(w) \\odot \\nabla_w L(w)$, $m_{\\text{corrected}} = \\frac{m}{1 - \\beta_1^t}$, $v_{\\text{corrected}} = \\frac{v}{1 - \\beta_2^t}$, and $w = w - \\alpha \\frac{m_{\\text{corrected}}}{\\sqrt{v_{\\text{corrected}} + \\epsilon}}$\n",
    "\n",
    "> Note: Actually, i only use the Gradient Descent Optimizer in this notebook."
   ]
  },
  {
   "cell_type": "code",
   "execution_count": 250,
   "metadata": {},
   "outputs": [],
   "source": [
    "class Optimizer:\n",
    "    def __init__(\n",
    "        self,\n",
    "        op_type: str = \"GD\",\n",
    "        shape_W: tuple[int, int] = None,\n",
    "        shape_b: tuple[int, int] = None,\n",
    "        m1: float = 0.9,\n",
    "        m2: float = 0.999,\n",
    "        epsilon: int = 1e-8,\n",
    "    ) -> None:\n",
    "        \"\"\"\n",
    "        :param op_type: type of optimizer (available optimizers: GD, SGD, RMSProp, Adam)\n",
    "        :param shape_W: shape of the weight matrix\n",
    "        :param shape_b: shape of the bias matrix\n",
    "        :param m1: hyperparameter >= 0 that accelerates gradient descent in the relevant direction and dampens oscillations. Used in RMSprop\n",
    "        :param m2: hyperparameter for adam only\n",
    "        :param epsilon: parameter used in adam and RMSprop to prevent division by zero error\n",
    "        \"\"\"\n",
    "        if op_type is None:\n",
    "            self.op_type = \"GD\"\n",
    "        else:\n",
    "            self.op_type = op_type\n",
    "\n",
    "        self.m1 = m1\n",
    "        self.m2 = m2\n",
    "        self.epsilon = epsilon\n",
    "\n",
    "        self.vdW = np.zeros(shape_W)\n",
    "        self.vdb = np.zeros(shape_b)\n",
    "\n",
    "        self.SdW = np.zeros(shape_W)\n",
    "        self.Sdb = np.zeros(shape_b)\n",
    "\n",
    "    def GD(self, dW: np.ndarray, db: np.ndarray, _: int) -> tuple:\n",
    "        \"\"\"\n",
    "        :param dW: gradient of Weight W for iteration k\n",
    "        :param db: gradient of bias b for iteration k\n",
    "        :param k: iteration number\n",
    "        \"\"\"\n",
    "        return dW, db\n",
    "\n",
    "    def SGD(self, dW: np.ndarray, db: np.ndarray, _: int) -> tuple:\n",
    "        \"\"\"\n",
    "        :param dW: gradient of Weight W for iteration k\n",
    "        :param db: gradient of bias b for iteration k\n",
    "        :param k: iteration number\n",
    "        \"\"\"\n",
    "        self.vdW = self.momentum1 * self.vdW + (1 - self.momentum1) * dW\n",
    "        self.vdb = self.momentum1 * self.vdb + (1 - self.momentum1) * db\n",
    "\n",
    "        return self.vdW, self.vdb\n",
    "\n",
    "    def RMSProp(self, dW: np.ndarray, db: np.ndarray, _: int) -> tuple:\n",
    "        \"\"\"\n",
    "        :param dW: gradient of Weight W for iteration k\n",
    "        :param db: gradient of bias b for iteration k\n",
    "        :param k: iteration number\n",
    "        \"\"\"\n",
    "        self.SdW = self.momentum2 * self.SdW + (1 - self.momentum2) * (dW**2)\n",
    "        self.Sdb = self.momentum2 * self.Sdb + (1 - self.momentum2) * (db**2)\n",
    "\n",
    "        den_W = np.sqrt(self.SdW) + self.epsilon\n",
    "        den_b = np.sqrt(self.Sdb) + self.epsilon\n",
    "\n",
    "        return dW / den_W, db / den_b\n",
    "\n",
    "    def Adam(self, dW: np.ndarray, db: np.ndarray, k: int) -> tuple:\n",
    "        \"\"\"\n",
    "        :param dW: gradient of Weight W for iteration k\n",
    "        :param db: gradient of bias b for iteration k\n",
    "        :param k: iteration number\n",
    "        \"\"\"\n",
    "        # momentum\n",
    "        self.vdW = self.momentum1 * self.vdW + (1 - self.momentum1) * dW\n",
    "        self.vdb = self.momentum1 * self.vdb + (1 - self.momentum1) * db\n",
    "\n",
    "        # rmsprop\n",
    "        self.SdW = self.momentum2 * self.SdW + (1 - self.momentum2) * (dW**2)\n",
    "        self.Sdb = self.momentum2 * self.Sdb + (1 - self.momentum2) * (db**2)\n",
    "\n",
    "        # correction\n",
    "        if k > 1:\n",
    "            vdW_h = self.vdW / (1 - (self.momentum1**k))\n",
    "            vdb_h = self.vdb / (1 - (self.momentum1**k))\n",
    "            SdW_h = self.SdW / (1 - (self.momentum2**k))\n",
    "            Sdb_h = self.Sdb / (1 - (self.momentum2**k))\n",
    "        else:\n",
    "            vdW_h = self.vdW\n",
    "            vdb_h = self.vdb\n",
    "            SdW_h = self.SdW\n",
    "            Sdb_h = self.Sdb\n",
    "\n",
    "        den_W = np.sqrt(SdW_h) + self.epsilon\n",
    "        den_b = np.sqrt(Sdb_h) + self.epsilon\n",
    "\n",
    "        return vdW_h / den_W, vdb_h / den_b\n",
    "\n",
    "    def get_optimizer(self, dW: np.ndarray, db: np.ndarray, k: int) -> tuple:\n",
    "        if self.op_type == \"GD\":\n",
    "            return self.GD(dW, db, k)\n",
    "        elif self.op_type == \"SGD\":\n",
    "            return self.SGD(dW, db, k)\n",
    "        elif self.op_type == \"RMSProp\":\n",
    "            return self.RMSProp(dW, db, k)\n",
    "        elif self.op_type == \"Adam\":\n",
    "            return self.Adam(dW, db, k)\n",
    "        else:\n",
    "            raise ValueError(\"Valid optiomizers are GD, SGD, RMSProp, Adam\")"
   ]
  },
  {
   "cell_type": "markdown",
   "metadata": {},
   "source": [
    "### 1.5. Loss Functions class"
   ]
  },
  {
   "cell_type": "code",
   "execution_count": 251,
   "metadata": {},
   "outputs": [],
   "source": [
    "class Loss:\n",
    "    def __init__(\n",
    "        self, loss: str = \"mse\", y_true: np.ndarray = None, y_pred: np.ndarray = None\n",
    "    ) -> None:\n",
    "        \"\"\"\n",
    "        :param loss: str, loss function (Available: mse, bce)\n",
    "        :param y_true: np.ndarray, true values\n",
    "        :param y_pred: np.ndarray, predicted values\n",
    "        \"\"\"\n",
    "        self.loss = loss\n",
    "        self.y_true = y_true\n",
    "        self.y_pred = y_pred\n",
    "\n",
    "    # Mean Squared Error\n",
    "    def mse(self) -> float:\n",
    "        return np.mean(np.power(self.y_true - self.y_pred, 2))\n",
    "\n",
    "    def d_mse(self) -> float:\n",
    "        return 2 * (self.y_pred - self.y_true) / np.size(self.y_true)\n",
    "\n",
    "    # Binary Cross Entropy\n",
    "    def bce(self) -> float:\n",
    "        return np.mean(\n",
    "            -self.y_true * np.log(self.y_pred)\n",
    "            - (1 - self.y_true) * np.log(1 - self.y_pred)\n",
    "        )\n",
    "\n",
    "    def d_bce(self) -> float:\n",
    "        return (\n",
    "            (1 - self.y_true) / (1 - self.y_pred) - self.y_true / self.y_pred\n",
    "        ) / np.size(self.y_true)\n",
    "\n",
    "    def get_loss(self) -> float:\n",
    "        if self.loss == \"mse\":\n",
    "            return self.mse()\n",
    "        if self.loss == \"bce\":\n",
    "            return self.bce()\n",
    "\n",
    "    def get_d_loss(self) -> float:\n",
    "        if self.loss == \"mse\":\n",
    "            return self.d_mse()\n",
    "        if self.loss == \"bce\":\n",
    "            return self.d_bce()"
   ]
  },
  {
   "cell_type": "markdown",
   "metadata": {},
   "source": [
    "## 2. Load Data\n",
    "\n",
    "- Load the MNIST dataset from the `keras.datasets.mnist` module.\n",
    "- Split the dataset into training and testing sets."
   ]
  },
  {
   "cell_type": "code",
   "execution_count": 252,
   "metadata": {},
   "outputs": [],
   "source": [
    "(X_train, y_train), (X_test, y_test) = datasets.mnist.load_data()"
   ]
  },
  {
   "cell_type": "code",
   "execution_count": 253,
   "metadata": {},
   "outputs": [
    {
     "data": {
      "image/png": "[encoded data removed]",
      "text/plain": [
       "<Figure size 800x400 with 8 Axes>"
      ]
     },
     "metadata": {},
     "output_type": "display_data"
    }
   ],
   "source": [
    "plot_data(X_train, y_train)"
   ]
  },
  {
   "cell_type": "markdown",
   "metadata": {},
   "source": [
    "## 3. Preprocess Data"
   ]
  },
  {
   "cell_type": "code",
   "execution_count": 254,
   "metadata": {},
   "outputs": [],
   "source": [
    "# Convert to float32 and scale to [0, 1]\n",
    "X_train = X_train.astype(np.float32) / 255.0\n",
    "X_test = X_test.astype(np.float32) / 255.0"
   ]
  },
  {
   "cell_type": "code",
   "execution_count": 255,
   "metadata": {},
   "outputs": [],
   "source": [
    "# Add channel dimension\n",
    "X_train = np.expand_dims(X_train, -1)\n",
    "X_test = np.expand_dims(X_test, -1)"
   ]
  },
  {
   "cell_type": "code",
   "execution_count": 256,
   "metadata": {},
   "outputs": [
    {
     "name": "stdout",
     "output_type": "stream",
     "text": [
      "x_train shape: (60000, 28, 28, 1)\n",
      "60000 train samples\n",
      "10000 test samples\n"
     ]
    }
   ],
   "source": [
    "print(\"x_train shape:\", X_train.shape)\n",
    "print(X_train.shape[0], \"train samples\")\n",
    "print(X_test.shape[0], \"test samples\")"
   ]
  },
  {
   "cell_type": "code",
   "execution_count": 257,
   "metadata": {},
   "outputs": [],
   "source": [
    "# Convert class vectors to one-hot encoded\n",
    "y_train = np.eye(10)[y_train]\n",
    "y_test = np.eye(10)[y_test]"
   ]
  },
  {
   "cell_type": "code",
   "execution_count": 258,
   "metadata": {},
   "outputs": [
    {
     "name": "stdout",
     "output_type": "stream",
     "text": [
      "y_train shape: (60000, 10)\n",
      "60000 train samples\n",
      "10000 test samples\n"
     ]
    }
   ],
   "source": [
    "print(\"y_train shape:\", y_train.shape)\n",
    "print(y_train.shape[0], \"train samples\")\n",
    "print(y_test.shape[0], \"test samples\")"
   ]
  },
  {
   "cell_type": "markdown",
   "metadata": {},
   "source": [
    "## 4. Artificial Neural Network"
   ]
  },
  {
   "cell_type": "markdown",
   "metadata": {},
   "source": [
    "### 4.1. With Convolutional Neural Network"
   ]
  },
  {
   "cell_type": "markdown",
   "metadata": {},
   "source": [
    "#### 4.1.1. Convolutional Layer class"
   ]
  },
  {
   "cell_type": "code",
   "execution_count": 331,
   "metadata": {},
   "outputs": [],
   "source": [
    "class Conv2D(BaseLayer):\n",
    "    def __init__(\n",
    "        self, inp_shape: tuple, kernel_size: int = 3, p: int = 0, s: int = 1\n",
    "    ) -> None:\n",
    "        \"\"\"\n",
    "        :param inp_shape: shape of the input data\n",
    "        :param kernel_size: size of the kernel\n",
    "        :param p: padding\n",
    "        :param s: stride\n",
    "        \"\"\"\n",
    "        self.height, self.width, self.depth = inp_shape\n",
    "        self.p = p\n",
    "        self.s = s\n",
    "        self.height += 2 * self.p\n",
    "        self.width += 2 * self.p\n",
    "\n",
    "        self.kernel_size = kernel_size\n",
    "        self.kernel = WeightInitializer(\n",
    "            (\n",
    "                self.depth,\n",
    "                kernel_size,\n",
    "                kernel_size,\n",
    "            ),\n",
    "            init=\"random\",\n",
    "        ).get_initializer()\n",
    "\n",
    "        self.output_shape = (\n",
    "            ((self.height - kernel_size) // self.s) + 1,\n",
    "            ((self.width - kernel_size) // self.s) + 1,\n",
    "            self.depth,\n",
    "        )\n",
    "        self.output = np.zeros(self.output_shape)\n",
    "\n",
    "    def getROI(self, inp: np.ndarray):\n",
    "        for row in range(self.output_shape[0]):\n",
    "            for col in range(self.output_shape[1]):\n",
    "                roi = inp[\n",
    "                    row * self.s : row * self.s + self.kernel_size,\n",
    "                    col * self.s : col * self.s + self.kernel_size,\n",
    "                    :,\n",
    "                ]\n",
    "                yield row, col, roi\n",
    "\n",
    "    def forward(self, X: np.ndarray) -> np.ndarray:\n",
    "        X = np.pad(X, ((self.p, self.p), (self.p, self.p), (0, 0)), mode=\"constant\")\n",
    "        for layer in range(self.depth):\n",
    "            for row, col, roi in self.getROI(X):\n",
    "                self.output[row, col, layer] = np.sum(roi * self.kernel[layer])\n",
    "\n",
    "        return self.output\n",
    "\n",
    "    def backpropagation(self, dZ: np.ndarray, lr: float) -> np.ndarray:\n",
    "        dX = np.zeros((self.height, self.width, self.depth))\n",
    "        dW = np.zeros(self.kernel.shape)\n",
    "\n",
    "        dZ = np.pad(dZ, ((self.p, self.p), (self.p, self.p), (0, 0)), mode=\"constant\")\n",
    "        for layer in range(self.depth):\n",
    "            for row, col, roi in self.getROI(dZ):\n",
    "                dX[\n",
    "                    row * self.s : row * self.s + self.kernel_size,\n",
    "                    col * self.s : col * self.s + self.kernel_size,\n",
    "                    :,\n",
    "                ] += (\n",
    "                    self.kernel[layer] * roi\n",
    "                )\n",
    "                dW[layer] += roi * self.kernel[layer]\n",
    "\n",
    "        self.kernel -= lr * dW\n",
    "        return dX"
   ]
  },
  {
   "cell_type": "code",
   "execution_count": 361,
   "metadata": {},
   "outputs": [
    {
     "data": {
      "image/png": "[encoded data removed]",
      "text/plain": [
       "<Figure size 1000x500 with 8 Axes>"
      ]
     },
     "metadata": {},
     "output_type": "display_data"
    }
   ],
   "source": [
    "raw_X = X_train[0:4]\n",
    "raw_y = y_train[0:4]\n",
    "\n",
    "fig, ax = plt.subplots(2, 4, figsize=(10, 5))\n",
    "\n",
    "for i in range(4):\n",
    "    ax[0, i].imshow(raw_X[i, :, :, 0], cmap=\"gray\")\n",
    "    ax[0, i].axis(\"off\")\n",
    "    ax[0, i].set_title(f\"Label: {np.argmax(raw_y[i])}\")\n",
    "\n",
    "    conv = Conv2D(raw_X[i].shape, kernel_size=3)\n",
    "    output = conv.forward(raw_X[i])\n",
    "    ax[1, i].imshow(output[:, :, 0], cmap=\"gray\")\n",
    "    ax[1, i].axis(\"off\")\n",
    "    ax[1, i].set_title(f\"Output: {np.argmax(raw_y[i])}\")\n",
    "\n",
    "plt.tight_layout()\n",
    "plt.show()"
   ]
  },
  {
   "cell_type": "markdown",
   "metadata": {},
   "source": [
    "#### 4.1.2. Pooling Layer class"
   ]
  },
  {
   "cell_type": "code",
   "execution_count": 390,
   "metadata": {},
   "outputs": [],
   "source": [
    "# max pooling\n",
    "\n",
    "\n",
    "class Pooling2D(BaseLayer):\n",
    "    def __init__(self, inp_shape: tuple, pool_size: int = 2) -> None:\n",
    "        \"\"\"\n",
    "        :param inp_shape: shape of the input data\n",
    "        :param pool_size: size of the pooling kernel\n",
    "        :param s: stride\n",
    "        \"\"\"\n",
    "        self.height, self.width, self.depth = inp_shape\n",
    "        self.pool_size = pool_size\n",
    "        self.output_shape = (\n",
    "            self.height // pool_size,\n",
    "            self.width // pool_size,\n",
    "            self.depth,\n",
    "        )\n",
    "        self.output = np.zeros(self.output_shape)\n",
    "\n",
    "    def getROI(self, inp: np.ndarray):\n",
    "        for row in range(self.output_shape[0]):\n",
    "            for col in range(self.output_shape[1]):\n",
    "                roi = inp[\n",
    "                    row * self.pool_size : row * self.pool_size + self.pool_size,\n",
    "                    col * self.pool_size : col * self.pool_size + self.pool_size,\n",
    "                    :,\n",
    "                ]\n",
    "                yield row, col, roi\n",
    "\n",
    "    def forward(self, X: np.ndarray) -> np.ndarray:\n",
    "        for layer in range(self.depth):\n",
    "            for row, col, roi in self.getROI(X):\n",
    "                self.output[row, col, layer] = np.max(roi)\n",
    "\n",
    "        return self.output\n",
    "\n",
    "    def backpropagation(self, dZ: np.ndarray, lr: float) -> np.ndarray:\n",
    "        dX = np.zeros((self.height, self.width, self.depth))\n",
    "\n",
    "        for layer in range(self.depth):\n",
    "            for row, col, roi in self.getROI(dZ):\n",
    "                mask = roi == np.max(roi)\n",
    "                dX[\n",
    "                    row * self.pool_size : row * self.pool_size + self.pool_size,\n",
    "                    col * self.pool_size : col * self.pool_size + self.pool_size,\n",
    "                    :,\n",
    "                ] += (\n",
    "                    mask * dZ[row, col, layer]\n",
    "                )\n",
    "\n",
    "        return dX"
   ]
  },
  {
   "cell_type": "markdown",
   "metadata": {},
   "source": [
    "#### 4.1.3. Flatten Layer class"
   ]
  },
  {
   "cell_type": "code",
   "execution_count": 395,
   "metadata": {},
   "outputs": [],
   "source": [
    "class Flatten(BaseLayer):\n",
    "    def __init__(self, inp_shape: tuple) -> None:\n",
    "        \"\"\"\n",
    "        :param inp_shape: shape of the input data\n",
    "        \"\"\"\n",
    "        self.inp_shape = inp_shape\n",
    "        self.output_shape = np.prod(self.inp_shape)\n",
    "        self.output = np.zeros(self.output_shape)\n",
    "\n",
    "    def forward(self, X: np.ndarray) -> np.ndarray:\n",
    "        self.X = X\n",
    "        self.output = X.flatten()\n",
    "        return self.output\n",
    "\n",
    "    def backpropagation(self, dZ: np.ndarray, lr: float) -> np.ndarray:\n",
    "        return dZ.reshape(self.inp_shape)"
   ]
  },
  {
   "cell_type": "markdown",
   "metadata": {},
   "source": [
    "#### 4.1.4. Dense Layer class"
   ]
  },
  {
   "cell_type": "code",
   "execution_count": 407,
   "metadata": {},
   "outputs": [],
   "source": [
    "class Dense(BaseLayer):\n",
    "    def __init__(self, input_size: int, output_size: int) -> None:\n",
    "        \"\"\"\n",
    "        :param input_size: size of input vector\n",
    "        :param output_size: size of output vector\n",
    "        \"\"\"\n",
    "        self.weights = np.random.randn(output_size, input_size)\n",
    "        self.bias = np.random.randn(output_size, 1)\n",
    "\n",
    "    def forward(self, input: np.ndarray) -> np.ndarray:\n",
    "        \"\"\"\n",
    "        :param input: input vector\n",
    "        \"\"\"\n",
    "        self.input = input\n",
    "        return np.dot(self.weights, self.input) + self.bias\n",
    "\n",
    "    def backpropagation(self, dZ: np.ndarray, lr: float) -> np.ndarray:\n",
    "        \"\"\"\n",
    "        :param dZ: gradient of loss with respect to output\n",
    "        :param lr: learning rate\n",
    "        \"\"\"\n",
    "        dW = np.dot(dZ, self.input.T)\n",
    "        dX = np.dot(self.weights.T, dZ)\n",
    "        self.weights -= lr * dW\n",
    "        self.bias -= lr * dZ\n",
    "        return dX"
   ]
  },
  {
   "cell_type": "markdown",
   "metadata": {},
   "source": [
    "#### 4.1.5. Neural Network class"
   ]
  },
  {
   "cell_type": "code",
   "execution_count": 433,
   "metadata": {},
   "outputs": [],
   "source": [
    "class CNN:\n",
    "    def __init__(self, lr: float = 0.001) -> None:\n",
    "        self.lr = lr\n",
    "        self.layers = []\n",
    "\n",
    "    def add(self, layer: BaseLayer) -> None:\n",
    "        self.layers.append(layer)\n",
    "\n",
    "    def fit(\n",
    "        self, X: np.ndarray, y: np.ndarray, epochs: int, verbose: bool = False\n",
    "    ) -> None:\n",
    "        pass"
   ]
  },
  {
   "cell_type": "code",
   "execution_count": 474,
   "metadata": {},
   "outputs": [
    {
     "ename": "AttributeError",
     "evalue": "'NoneType' object has no attribute 'reshape'",
     "output_type": "error",
     "traceback": [
      "\u001b[0;31m---------------------------------------------------------------------------\u001b[0m",
      "\u001b[0;31mAttributeError\u001b[0m                            Traceback (most recent call last)",
      "Cell \u001b[0;32mIn[474], line 23\u001b[0m\n\u001b[1;32m     21\u001b[0m dZ2 \u001b[38;5;241m=\u001b[39m Loss(loss\u001b[38;5;241m=\u001b[39m\u001b[38;5;124m\"\u001b[39m\u001b[38;5;124mmse\u001b[39m\u001b[38;5;124m\"\u001b[39m, y_true\u001b[38;5;241m=\u001b[39my[i], y_pred\u001b[38;5;241m=\u001b[39mz2)\u001b[38;5;241m.\u001b[39mget_d_loss()\n\u001b[1;32m     22\u001b[0m dF1 \u001b[38;5;241m=\u001b[39m dense\u001b[38;5;241m.\u001b[39mbackpropagation(dZ2, lr)\n\u001b[0;32m---> 23\u001b[0m dP1 \u001b[38;5;241m=\u001b[39m \u001b[43mflat\u001b[49m\u001b[38;5;241;43m.\u001b[39;49m\u001b[43mbackpropagation\u001b[49m\u001b[43m(\u001b[49m\u001b[43mdF1\u001b[49m\u001b[43m,\u001b[49m\u001b[43m \u001b[49m\u001b[43mlr\u001b[49m\u001b[43m)\u001b[49m\n\u001b[1;32m     24\u001b[0m dA1 \u001b[38;5;241m=\u001b[39m pool\u001b[38;5;241m.\u001b[39mbackpropagation(dP1, lr)\n\u001b[1;32m     25\u001b[0m dZ1 \u001b[38;5;241m=\u001b[39m act1\u001b[38;5;241m.\u001b[39mbackpropagation(dA1, lr)\n",
      "Cell \u001b[0;32mIn[395], line 16\u001b[0m, in \u001b[0;36mFlatten.backpropagation\u001b[0;34m(self, dZ, lr)\u001b[0m\n\u001b[1;32m     15\u001b[0m \u001b[38;5;28;01mdef\u001b[39;00m \u001b[38;5;21mbackpropagation\u001b[39m(\u001b[38;5;28mself\u001b[39m, dZ: np\u001b[38;5;241m.\u001b[39mndarray, lr: \u001b[38;5;28mfloat\u001b[39m) \u001b[38;5;241m-\u001b[39m\u001b[38;5;241m>\u001b[39m np\u001b[38;5;241m.\u001b[39mndarray:\n\u001b[0;32m---> 16\u001b[0m     \u001b[38;5;28;01mreturn\u001b[39;00m \u001b[43mdZ\u001b[49m\u001b[38;5;241;43m.\u001b[39;49m\u001b[43mreshape\u001b[49m(\u001b[38;5;28mself\u001b[39m\u001b[38;5;241m.\u001b[39minp_shape)\n",
      "\u001b[0;31mAttributeError\u001b[0m: 'NoneType' object has no attribute 'reshape'"
     ]
    }
   ],
   "source": [
    "X = X_train[0:4]\n",
    "y = y_train[0:4]\n",
    "\n",
    "lr = 0.001\n",
    "\n",
    "for i in range(4):\n",
    "    conv = Conv2D(X[i].shape, kernel_size=3)\n",
    "    act1 = Activation(act=\"reLU\")\n",
    "    pool = Pooling2D(a1.shape, pool_size=2)\n",
    "    flat = Flatten(p1.shape)\n",
    "    dense = Dense(f1.shape[0], 10)\n",
    "\n",
    "    # forward pass\n",
    "    z1 = conv.forward(X[i])\n",
    "    a1 = act1.forward(z1)\n",
    "    p1 = pool.forward(a1)\n",
    "    f1 = flat.forward(p1)\n",
    "    z2 = dense.forward(f1)\n",
    "\n",
    "    # backward pass\n",
    "    dZ2 = Loss(loss=\"mse\", y_true=y[i], y_pred=z2).get_d_loss()\n",
    "    dF1 = dense.backpropagation(dZ2, lr)\n",
    "    dP1 = flat.backpropagation(dF1, lr)\n",
    "    dA1 = pool.backpropagation(dP1, lr)\n",
    "    dZ1 = act1.backpropagation(dA1, lr)\n",
    "    dX = conv.backpropagation(dZ1, lr)"
   ]
  },
  {
   "cell_type": "markdown",
   "metadata": {},
   "source": [
    "### 4.2 With Keras"
   ]
  },
  {
   "cell_type": "code",
   "execution_count": 260,
   "metadata": {},
   "outputs": [],
   "source": [
    "from keras import models, layers"
   ]
  },
  {
   "cell_type": "code",
   "execution_count": 261,
   "metadata": {},
   "outputs": [],
   "source": [
    "inp_shape = X_train.shape[1:]"
   ]
  },
  {
   "cell_type": "code",
   "execution_count": 262,
   "metadata": {},
   "outputs": [
    {
     "name": "stdout",
     "output_type": "stream",
     "text": [
      "Model: \"sequential_5\"\n",
      "_________________________________________________________________\n",
      "Layer (type)                 Output Shape              Param #   \n",
      "=================================================================\n",
      "flatten_5 (Flatten)          (None, 784)               0         \n",
      "_________________________________________________________________\n",
      "dense_15 (Dense)             (None, 512)               401920    \n",
      "_________________________________________________________________\n",
      "dense_16 (Dense)             (None, 256)               131328    \n",
      "_________________________________________________________________\n",
      "dense_17 (Dense)             (None, 10)                2570      \n",
      "=================================================================\n",
      "Total params: 535,818\n",
      "Trainable params: 535,818\n",
      "Non-trainable params: 0\n",
      "_________________________________________________________________\n"
     ]
    }
   ],
   "source": [
    "model = models.Sequential(\n",
    "    [\n",
    "        layers.Flatten(input_shape=(28, 28)),\n",
    "        layers.Dense(512, activation=\"relu\"),\n",
    "        layers.Dense(256, activation=\"relu\"),\n",
    "        layers.Dense(10, activation=\"softmax\"),\n",
    "    ]\n",
    ")\n",
    "\n",
    "model.summary()"
   ]
  },
  {
   "cell_type": "code",
   "execution_count": 263,
   "metadata": {},
   "outputs": [],
   "source": [
    "model.compile(optimizer=\"adam\", loss=\"categorical_crossentropy\", metrics=\"accuracy\")"
   ]
  },
  {
   "cell_type": "code",
   "execution_count": 264,
   "metadata": {},
   "outputs": [
    {
     "name": "stdout",
     "output_type": "stream",
     "text": [
      "Epoch 1/5\n",
      "422/422 [==============================] - 1s 2ms/step - loss: 0.4397 - accuracy: 0.8738 - val_loss: 0.1020 - val_accuracy: 0.9707\n",
      "Epoch 2/5\n",
      "422/422 [==============================] - 1s 1ms/step - loss: 0.0936 - accuracy: 0.9721 - val_loss: 0.0766 - val_accuracy: 0.9788\n",
      "Epoch 3/5\n",
      "422/422 [==============================] - 1s 1ms/step - loss: 0.0550 - accuracy: 0.9827 - val_loss: 0.0803 - val_accuracy: 0.9785\n",
      "Epoch 4/5\n",
      "422/422 [==============================] - 1s 1ms/step - loss: 0.0320 - accuracy: 0.9903 - val_loss: 0.0755 - val_accuracy: 0.9795\n",
      "Epoch 5/5\n",
      "422/422 [==============================] - 1s 2ms/step - loss: 0.0244 - accuracy: 0.9923 - val_loss: 0.0890 - val_accuracy: 0.9757\n"
     ]
    }
   ],
   "source": [
    "batch_size = 128\n",
    "epochs = 5\n",
    "\n",
    "history = model.fit(\n",
    "    X_train, y_train, batch_size=batch_size, epochs=epochs, validation_split=0.1\n",
    ")"
   ]
  },
  {
   "cell_type": "markdown",
   "metadata": {},
   "source": [
    "#### 4.2.1. Model results"
   ]
  },
  {
   "cell_type": "code",
   "execution_count": 265,
   "metadata": {},
   "outputs": [],
   "source": [
    "history_dict = history.history"
   ]
  },
  {
   "cell_type": "code",
   "execution_count": 266,
   "metadata": {},
   "outputs": [
    {
     "data": {
      "text/plain": [
       "dict_keys(['loss', 'accuracy', 'val_loss', 'val_accuracy'])"
      ]
     },
     "execution_count": 266,
     "metadata": {},
     "output_type": "execute_result"
    }
   ],
   "source": [
    "history_dict.keys()"
   ]
  },
  {
   "cell_type": "code",
   "execution_count": 267,
   "metadata": {},
   "outputs": [],
   "source": [
    "train_loss, val_loss = history_dict[\"loss\"], history_dict[\"val_loss\"]\n",
    "train_acc, val_acc = history_dict[\"accuracy\"], history_dict[\"val_accuracy\"]"
   ]
  },
  {
   "cell_type": "code",
   "execution_count": 268,
   "metadata": {},
   "outputs": [
    {
     "data": {
      "image/png": "[encoded data removed]",
      "text/plain": [
       "<Figure size 1500x500 with 2 Axes>"
      ]
     },
     "metadata": {},
     "output_type": "display_data"
    }
   ],
   "source": [
    "fig, (ax1, ax2) = plt.subplots(1, 2, figsize=(15, 5))\n",
    "epochs_run = [i for i in range(epochs)]\n",
    "\n",
    "ax1.plot(epochs_run, train_loss, label=\"Training loss\")\n",
    "ax1.plot(epochs_run, val_loss, label=\"Validation loss\", marker=\"o\")\n",
    "\n",
    "ax1.set_title(\"Training and validation loss\")\n",
    "ax1.set_xlabel(\"Epochs\")\n",
    "ax1.set_ylabel(\"Loss\")\n",
    "ax1.legend()\n",
    "\n",
    "ax2.plot(epochs_run, train_acc, label=\"Training accuracy\")\n",
    "ax2.plot(epochs_run, val_acc, label=\"Validation accuracy\", marker=\"o\")\n",
    "\n",
    "ax2.set_title(\"Training and validation accuracy\")\n",
    "ax2.set_xlabel(\"Epochs\")\n",
    "ax2.set_ylabel(\"Accuracy\")\n",
    "ax2.legend()\n",
    "\n",
    "plt.show()"
   ]
  },
  {
   "cell_type": "markdown",
   "metadata": {},
   "source": [
    "#### 4.2.1. Model prediction"
   ]
  },
  {
   "cell_type": "code",
   "execution_count": 269,
   "metadata": {},
   "outputs": [
    {
     "name": "stdout",
     "output_type": "stream",
     "text": [
      "Test loss: 0.0761643499135971\n",
      "Test accuracy: 0.9771000146865845\n"
     ]
    }
   ],
   "source": [
    "score = model.evaluate(X_test, y_test, verbose=0)\n",
    "print(\"Test loss:\", score[0])\n",
    "print(\"Test accuracy:\", score[1])"
   ]
  },
  {
   "cell_type": "code",
   "execution_count": 270,
   "metadata": {},
   "outputs": [],
   "source": [
    "y_pred = model.predict(X_test)"
   ]
  },
  {
   "cell_type": "code",
   "execution_count": 275,
   "metadata": {},
   "outputs": [
    {
     "data": {
      "image/png": "[encoded data removed]",
      "text/plain": [
       "<Figure size 800x400 with 8 Axes>"
      ]
     },
     "metadata": {},
     "output_type": "display_data"
    }
   ],
   "source": [
    "plot_data(X_test, np.argmax(y_test, axis=1), np.argmax(y_pred, axis=1))"
   ]
  }
 ],
 "metadata": {
  "kernelspec": {
   "display_name": "digit-recognition",
   "language": "python",
   "name": "python3"
  },
  "language_info": {
   "codemirror_mode": {
    "name": "ipython",
    "version": 3
   },
   "file_extension": ".py",
   "mimetype": "text/x-python",
   "name": "python",
   "nbconvert_exporter": "python",
   "pygments_lexer": "ipython3",
   "version": "3.9.12"
  }
 },
 "nbformat": 4,
 "nbformat_minor": 2
}
