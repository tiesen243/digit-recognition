{
 "cells": [
  {
   "cell_type": "markdown",
   "metadata": {},
   "source": [
    "# MNIST Prediction with Artificial Neural Network\n",
    "\n",
    "- MNIST dataset: is a dataset of 60,000 28x28 grayscale images of the 10 digits, along with a test set of 10,000 images. More info can be found at the [MNIST homepage](http://yann.lecun.com/exdb/mnist/).\n",
    "- Goal: build a simple artificial neural network to predict the digit in the images.\n",
    "- Reference: [Oddly Satisfying Deep Learning](https://pythonandml.github.io/dlbook/content/convolutional_neural_networks/cnn_over_mlp.html)"
   ]
  },
  {
   "cell_type": "markdown",
   "metadata": {},
   "source": [
    "#### Import libraries"
   ]
  },
  {
   "cell_type": "code",
   "execution_count": 198,
   "metadata": {},
   "outputs": [],
   "source": [
    "# for linear algebra\n",
    "import numpy as np\n",
    "\n",
    "# for plotting data, loss, accuracy\n",
    "import matplotlib.pyplot as plt\n",
    "\n",
    "# loading mnist dataset from keras\n",
    "from keras import datasets\n",
    "\n",
    "# show progress bar\n",
    "from tqdm import tqdm\n",
    "\n",
    "# for type hinting\n",
    "from typing import Optional"
   ]
  },
  {
   "cell_type": "markdown",
   "metadata": {},
   "source": [
    "## 1. Utility Functions\n",
    "\n",
    "1. **plot_data**: plot the random 8 images from the dataset.\n",
    "2. **Activation Functions**: Linear, reLU, Sigmoid, Tanh, Softmax.\n",
    "3. **Weight Initialization**: Zeros, Ones, Random, Random Uniform.\n",
    "4. **Optimization Functions**: Gradient Descent, Stochastic Gradient Descent, RMSprop, Adam."
   ]
  },
  {
   "cell_type": "markdown",
   "metadata": {},
   "source": [
    "### 1.1. Plotting Functions"
   ]
  },
  {
   "cell_type": "code",
   "execution_count": 171,
   "metadata": {},
   "outputs": [],
   "source": [
    "def plot_data(\n",
    "    X: np.ndarray, y: np.ndarray, y_proba: Optional[np.ndarray] = None\n",
    ") -> None:\n",
    "    nrows, ncols = 2, 4\n",
    "    _, axes = plt.subplots(nrows, ncols, figsize=(8, 4))\n",
    "\n",
    "    len_x = X.shape[0]\n",
    "    for idx in range(nrows * ncols):\n",
    "        ax = axes[idx // ncols, idx % ncols]\n",
    "\n",
    "        img_idx = np.random.randint(0, len_x)\n",
    "\n",
    "        ax.imshow(X[img_idx], cmap=\"gray\")\n",
    "        ax.set(xticks=[], yticks=[])\n",
    "\n",
    "        true_label = f\"True: {y[img_idx]}\"\n",
    "\n",
    "        if y_proba is not None:\n",
    "            pred_label = f\"Pred: {y_proba[img_idx]}\"\n",
    "\n",
    "        img_title = true_label if y_proba is None else f\"{true_label}\\n{pred_label}\"\n",
    "        ax.set_xlabel(img_title)\n",
    "\n",
    "    plt.tight_layout()\n",
    "    plt.show()"
   ]
  },
  {
   "cell_type": "markdown",
   "metadata": {},
   "source": [
    "### 1.2. Activation Functions and Their Derivatives class\n",
    "\n",
    "- Sigmoid function: $\\sigma(z) = \\frac{1}{1 + e^{-z}}$\n",
    "- Derivative of sigmoid function: $\\sigma'(z) = \\sigma(z)(1 - \\sigma(z))$\n",
    "\n",
    "- ReLU function: $f(z) = \\max(0, z)$\n",
    "- Derivative of ReLU function: $f'(z) = 0$ if $z < 0$ and $f'(z) = 1$ if $z \\geq 0$\n",
    "\n",
    "- Tanh function: $\\tanh(z) = \\frac{e^z - e^{-z}}{e^z + e^{-z}}$\n",
    "- Derivative of tanh function: $\\tanh'(z) = 1 - \\tanh^2(z)$\n",
    "\n",
    "- Softmax function: $S(z)_j = \\frac{e^{z_j}}{\\sum_{k=1}^{K} e^{z_k}}$ for $j = 1, 2, \\ldots, K$\n",
    "- Derivative of softmax function: $\\frac{\\partial S(z)_j}{\\partial z_i} = S(z)_j(\\delta_{ij} - S(z)_i)$"
   ]
  },
  {
   "cell_type": "code",
   "execution_count": 172,
   "metadata": {},
   "outputs": [],
   "source": [
    "class Activation:\n",
    "    def __init__(self, act: str = None) -> None:\n",
    "        if act is None:\n",
    "            self.act = \"relu\"\n",
    "        else:\n",
    "            self.act = act\n",
    "\n",
    "    def linear(self, x: np.ndarray) -> np.ndarray:\n",
    "        return x\n",
    "\n",
    "    def d_linear(self, x: np.ndarray) -> np.ndarray:\n",
    "        return np.ones(x.shape)\n",
    "\n",
    "    def reLU(self, x: np.ndarray) -> np.ndarray:\n",
    "        return x * (x > 0)\n",
    "\n",
    "    def d_reLU(self, x: np.ndarray) -> np.ndarray:\n",
    "        return (x > 0) * np.ones(x.shape)\n",
    "\n",
    "    def sigmoid(self, x: np.ndarray) -> np.ndarray:\n",
    "        return 1 / (1 + np.exp(-x))\n",
    "\n",
    "    def d_sigmoid(self, x: np.ndarray) -> np.ndarray:\n",
    "        return self.sigmoid(x) * (1 - self.sigmoid(x))\n",
    "\n",
    "    def tanh(self, x: np.ndarray) -> np.ndarray:\n",
    "        return np.tanh(x)\n",
    "\n",
    "    def d_tanh(self, x: np.ndarray) -> np.ndarray:\n",
    "        return 1 - self.tanh(x) ** 2\n",
    "\n",
    "    def softmax(self, x: np.ndarray) -> np.ndarray:\n",
    "        z = x - np.max(x, axis=-1, keepdims=True)\n",
    "        numerator = np.exp(z)\n",
    "        denominator = np.sum(numerator, axis=-1, keepdims=True)\n",
    "        softmax = numerator / denominator\n",
    "        return softmax\n",
    "\n",
    "    def d_softmax(self, x: np.ndarray) -> np.ndarray:\n",
    "        if len(x.shape) == 1:\n",
    "            x = np.array(x).reshape(1, -1)\n",
    "        else:\n",
    "            x = np.array(x)\n",
    "        m, d = x.shape\n",
    "        a = self.softmax(x)\n",
    "        tensor1 = np.einsum(\"ij,ik->ijk\", a, a)\n",
    "        tensor2 = np.einsum(\"ij,jk->ijk\", a, np.eye(d, d))\n",
    "        return tensor2 - tensor1\n",
    "\n",
    "    def get_activation(self, X: np.ndarray) -> np.ndarray:\n",
    "        if self.act == \"linear\":\n",
    "            return self.linear(X)\n",
    "        elif self.act == \"sigmoid\":\n",
    "            return self.sigmoid(X)\n",
    "        elif self.act == \"tanh\":\n",
    "            return self.tanh(X)\n",
    "        elif self.act == \"reLU\":\n",
    "            return self.reLU(X)\n",
    "        elif self.act == \"softmax\":\n",
    "            return self.softmax(X)\n",
    "        else:\n",
    "            raise ValueError(\"Activation function not recognized\")\n",
    "\n",
    "    def get_d_activation(self, X: np.ndarray) -> np.ndarray:\n",
    "        if self.act == \"linear\":\n",
    "            return self.d_linear(X)\n",
    "        elif self.act == \"sigmoid\":\n",
    "            return self.d_sigmoid(X)\n",
    "        elif self.act == \"tanh\":\n",
    "            return self.d_tanh(X)\n",
    "        elif self.act == \"reLU\":\n",
    "            return self.d_reLU(X)\n",
    "        elif self.act == \"softmax\":\n",
    "            return self.d_softmax(X)\n",
    "        else:\n",
    "            raise ValueError(\"Activation function not recognized\")\n",
    "\n",
    "    def forward(self, X: np.ndarray) -> np.ndarray:\n",
    "        self.X = X\n",
    "        z = self.get_activation(X)\n",
    "        return z\n",
    "\n",
    "    def backpropagation(self, dZ: np.ndarray) -> np.ndarray:\n",
    "        dA = dZ * self.get_d_activation(self.X)\n",
    "        if self.activation_type == \"softmax\":\n",
    "            dX = np.einsum(\"ijk,ik->ij\", dA, dZ)\n",
    "        else:\n",
    "            dX = dA * dZ\n",
    "        return dX"
   ]
  },
  {
   "cell_type": "markdown",
   "metadata": {},
   "source": [
    "### 1.3. Weight Initialization class\n",
    "\n",
    "- Zeros initialization: $w = np.zeros(shape)$\n",
    "- Ones initialization: $w = np.ones(shape)$\n",
    "- Random initialization: $w = np.random.randn(shape)$\n",
    "- Random uniform initialization: $w = np.random.uniform(size=shape)$"
   ]
  },
  {
   "cell_type": "code",
   "execution_count": 173,
   "metadata": {},
   "outputs": [],
   "source": [
    "class WeightInitializer:\n",
    "    def __init__(self, shape, init: str = None, seed: int = None) -> None:\n",
    "        \"\"\"\n",
    "        :param shape: shape of the weight matrix\n",
    "        :param init: type of initialization (available initializations: zeros, ones, random, random_uniform)\n",
    "        :param seed: seed for random initialization\n",
    "        \"\"\"\n",
    "        self.shape = shape\n",
    "\n",
    "        if init is None:\n",
    "            self.init = \"random\"\n",
    "        else:\n",
    "            self.init = init\n",
    "\n",
    "        if seed is None:\n",
    "            self.seed = 69\n",
    "        else:\n",
    "            self.seed = seed\n",
    "\n",
    "    def zeros(self) -> np.ndarray:\n",
    "        return np.zeros(self.shape)\n",
    "\n",
    "    def ones(self) -> np.ndarray:\n",
    "        return np.ones(self.shape)\n",
    "\n",
    "    def random(self) -> np.ndarray:\n",
    "        np.random.seed(self.seed)\n",
    "        return np.random.randn(*self.shape)\n",
    "\n",
    "    def random_uniform(self) -> np.ndarray:\n",
    "        np.random.seed(self.seed)\n",
    "        return np.random.uniform(size=self.shape)\n",
    "\n",
    "    def get_initializer(self) -> np.ndarray:\n",
    "        if self.init == \"zeros\":\n",
    "            return self.zeros()\n",
    "        elif self.init == \"ones\":\n",
    "            return self.ones()\n",
    "        elif self.init == \"random\":\n",
    "            return self.random()\n",
    "        elif self.init == \"random_uniform\":\n",
    "            return self.random_uniform()\n",
    "        else:\n",
    "            raise ValueError(\n",
    "                \"Valid initializations are: zeros, ones, random, random_uniform\"\n",
    "            )"
   ]
  },
  {
   "cell_type": "markdown",
   "metadata": {},
   "source": [
    "### 1.4.  Optimizers class\n",
    "\n",
    "- Gradient Descent Optimizer: $w = w - \\alpha \\nabla_w L(w)$\n",
    "- Stochastic Gradient Descent Optimizer: $w = w - \\alpha \\nabla_w L(w)$\n",
    "- RMSprop Optimizer: $v = \\beta v + (1 - \\beta) \\nabla_w L(w) \\odot \\nabla_w L(w)$ and $w = w - \\alpha \\frac{\\nabla_w L(w)}{\\sqrt{v + \\epsilon}}$\n",
    "- Adam Optimizer: $m = \\beta_1 m + (1 - \\beta_1) \\nabla_w L(w)$, $v = \\beta_2 v + (1 - \\beta_2) \\nabla_w L(w) \\odot \\nabla_w L(w)$, $m_{\\text{corrected}} = \\frac{m}{1 - \\beta_1^t}$, $v_{\\text{corrected}} = \\frac{v}{1 - \\beta_2^t}$, and $w = w - \\alpha \\frac{m_{\\text{corrected}}}{\\sqrt{v_{\\text{corrected}} + \\epsilon}}$\n",
    "\n",
    "> Note: Actually, i only use the Gradient Descent Optimizer in this notebook."
   ]
  },
  {
   "cell_type": "code",
   "execution_count": 174,
   "metadata": {},
   "outputs": [],
   "source": [
    "class Optimizer:\n",
    "    def __init__(\n",
    "        self,\n",
    "        op_type: str = None,\n",
    "        shape_W: tuple[int, int] = None,\n",
    "        shape_b: tuple[int, int] = None,\n",
    "        m1: float = 0.9,\n",
    "        m2: float = 0.999,\n",
    "        epsilon: int = 1e-8,\n",
    "    ) -> None:\n",
    "        \"\"\"\n",
    "        :param op_type: type of optimizer (available optimizers: GD, SGD, RMSProp, Adam)\n",
    "        :param shape_W: shape of the weight matrix\n",
    "        :param shape_b: shape of the bias matrix\n",
    "        :param m1: hyperparameter >= 0 that accelerates gradient descent in the relevant direction and dampens oscillations. Used in RMSprop\n",
    "        :param m2: hyperparameter for adam only\n",
    "        :param epsilon: parameter used in adam and RMSprop to prevent division by zero error\n",
    "        \"\"\"\n",
    "        if op_type is None:\n",
    "            self.op_type = \"GD\"\n",
    "        else:\n",
    "            self.op_type = op_type\n",
    "\n",
    "        self.m1 = m1\n",
    "        self.m2 = m2\n",
    "        self.epsilon = epsilon\n",
    "\n",
    "        self.vdW = np.zeros(shape_W)\n",
    "        self.vdb = np.zeros(shape_b)\n",
    "\n",
    "        self.SdW = np.zeros(shape_W)\n",
    "        self.Sdb = np.zeros(shape_b)\n",
    "\n",
    "    def GD(self, dW: np.ndarray, db: np.ndarray, _: int) -> tuple:\n",
    "        \"\"\"\n",
    "        :param dW: gradient of Weight W for iteration k\n",
    "        :param db: gradient of bias b for iteration k\n",
    "        :param k: iteration number\n",
    "        \"\"\"\n",
    "        return dW, db\n",
    "\n",
    "    def SGD(self, dW: np.ndarray, db: np.ndarray, _: int) -> tuple:\n",
    "        \"\"\"\n",
    "        :param dW: gradient of Weight W for iteration k\n",
    "        :param db: gradient of bias b for iteration k\n",
    "        :param k: iteration number\n",
    "        \"\"\"\n",
    "        self.vdW = self.momentum1 * self.vdW + (1 - self.momentum1) * dW\n",
    "        self.vdb = self.momentum1 * self.vdb + (1 - self.momentum1) * db\n",
    "\n",
    "        return self.vdW, self.vdb\n",
    "\n",
    "    def RMSProp(self, dW: np.ndarray, db: np.ndarray, _: int) -> tuple:\n",
    "        \"\"\"\n",
    "        :param dW: gradient of Weight W for iteration k\n",
    "        :param db: gradient of bias b for iteration k\n",
    "        :param k: iteration number\n",
    "        \"\"\"\n",
    "        self.SdW = self.momentum2 * self.SdW + (1 - self.momentum2) * (dW**2)\n",
    "        self.Sdb = self.momentum2 * self.Sdb + (1 - self.momentum2) * (db**2)\n",
    "\n",
    "        den_W = np.sqrt(self.SdW) + self.epsilon\n",
    "        den_b = np.sqrt(self.Sdb) + self.epsilon\n",
    "\n",
    "        return dW / den_W, db / den_b\n",
    "\n",
    "    def Adam(self, dW: np.ndarray, db: np.ndarray, k: int) -> tuple:\n",
    "        \"\"\"\n",
    "        :param dW: gradient of Weight W for iteration k\n",
    "        :param db: gradient of bias b for iteration k\n",
    "        :param k: iteration number\n",
    "        \"\"\"\n",
    "        # momentum\n",
    "        self.vdW = self.momentum1 * self.vdW + (1 - self.momentum1) * dW\n",
    "        self.vdb = self.momentum1 * self.vdb + (1 - self.momentum1) * db\n",
    "\n",
    "        # rmsprop\n",
    "        self.SdW = self.momentum2 * self.SdW + (1 - self.momentum2) * (dW**2)\n",
    "        self.Sdb = self.momentum2 * self.Sdb + (1 - self.momentum2) * (db**2)\n",
    "\n",
    "        # correction\n",
    "        if k > 1:\n",
    "            vdW_h = self.vdW / (1 - (self.momentum1**k))\n",
    "            vdb_h = self.vdb / (1 - (self.momentum1**k))\n",
    "            SdW_h = self.SdW / (1 - (self.momentum2**k))\n",
    "            Sdb_h = self.Sdb / (1 - (self.momentum2**k))\n",
    "        else:\n",
    "            vdW_h = self.vdW\n",
    "            vdb_h = self.vdb\n",
    "            SdW_h = self.SdW\n",
    "            Sdb_h = self.Sdb\n",
    "\n",
    "        den_W = np.sqrt(SdW_h) + self.epsilon\n",
    "        den_b = np.sqrt(Sdb_h) + self.epsilon\n",
    "\n",
    "        return vdW_h / den_W, vdb_h / den_b\n",
    "\n",
    "    def get_optimizer(self, dW: np.ndarray, db: np.ndarray, k: int) -> tuple:\n",
    "        if self.op_type == \"GD\":\n",
    "            return self.GD(dW, db, k)\n",
    "        elif self.op_type == \"SGD\":\n",
    "            return self.SGD(dW, db, k)\n",
    "        elif self.op_type == \"RMSProp\":\n",
    "            return self.RMSProp(dW, db, k)\n",
    "        elif self.op_type == \"Adam\":\n",
    "            return self.Adam(dW, db, k)\n",
    "        else:\n",
    "            raise ValueError(\"Valid optiomizers are GD, SGD, RMSProp, Adam\")"
   ]
  },
  {
   "cell_type": "markdown",
   "metadata": {},
   "source": [
    "## 2. Load Data\n",
    "\n",
    "- Load the MNIST dataset from the `keras.datasets.mnist` module.\n",
    "- Split the dataset into training and testing sets."
   ]
  },
  {
   "cell_type": "code",
   "execution_count": 175,
   "metadata": {},
   "outputs": [],
   "source": [
    "(X_train, y_train), (X_test, y_test) = datasets.mnist.load_data()"
   ]
  },
  {
   "cell_type": "code",
   "execution_count": 176,
   "metadata": {},
   "outputs": [
    {
     "data": {
      "image/png": "[encoded data removed]",
      "text/plain": [
       "<Figure size 800x400 with 8 Axes>"
      ]
     },
     "metadata": {},
     "output_type": "display_data"
    }
   ],
   "source": [
    "plot_data(X_train, y_train)"
   ]
  },
  {
   "cell_type": "markdown",
   "metadata": {},
   "source": [
    "## 3. Image Preprocessing\n",
    "\n",
    "- Normalize the images by dividing each pixel by 255.\n",
    "- Add channel dimension to the images.\n",
    "- Convert y to one-hot encoding."
   ]
  },
  {
   "cell_type": "code",
   "execution_count": 177,
   "metadata": {},
   "outputs": [],
   "source": [
    "# Convert to float32 and scale to [0, 1]\n",
    "X_train = X_train.astype(np.float32) / 255.0\n",
    "X_test = X_test.astype(np.float32) / 255.0"
   ]
  },
  {
   "cell_type": "code",
   "execution_count": 178,
   "metadata": {},
   "outputs": [],
   "source": [
    "# Add channel dimension\n",
    "X_train = np.expand_dims(X_train, -1)\n",
    "X_test = np.expand_dims(X_test, -1)"
   ]
  },
  {
   "cell_type": "code",
   "execution_count": 179,
   "metadata": {},
   "outputs": [
    {
     "name": "stdout",
     "output_type": "stream",
     "text": [
      "x_train shape: (60000, 28, 28, 1)\n",
      "X_test shape: (10000, 28, 28, 1)\n"
     ]
    }
   ],
   "source": [
    "print(\"x_train shape:\", X_train.shape)\n",
    "print(\"X_test shape:\", X_test.shape)"
   ]
  },
  {
   "cell_type": "code",
   "execution_count": 180,
   "metadata": {},
   "outputs": [],
   "source": [
    "\"\"\"Conver y to one-hot encoding. Example:\n",
    "y = 2 -> [0, 0, 1, 0, 0, 0, 0, 0, 0, 0]\n",
    "y = 3 -> [0, 0, 0, 1, 0, 0, 0, 0, 0, 0]\n",
    "\"\"\"\n",
    "\n",
    "y_train = np.eye(10)[y_train]\n",
    "y_test = np.eye(10)[y_test]"
   ]
  },
  {
   "cell_type": "code",
   "execution_count": 181,
   "metadata": {},
   "outputs": [
    {
     "name": "stdout",
     "output_type": "stream",
     "text": [
      "y_train shape: (60000, 10)\n",
      "y_test shape: (10000, 10)\n"
     ]
    }
   ],
   "source": [
    "print(\"y_train shape:\", y_train.shape)\n",
    "print(\"y_test shape:\", y_test.shape)"
   ]
  },
  {
   "cell_type": "markdown",
   "metadata": {},
   "source": [
    "## 4. Artificial Neural Network"
   ]
  },
  {
   "cell_type": "markdown",
   "metadata": {},
   "source": [
    "### 4.1. With Convolutional Neural Network"
   ]
  },
  {
   "cell_type": "markdown",
   "metadata": {},
   "source": [
    "#### 4.1.1. Dense Layer\n",
    "\n",
    "THis class implements the operations:\n",
    "- Forward: \n",
    "    1. $Z = XW + B^T$\n",
    "    2. $A = f(Z)$\n",
    "- Backward: $dX = dZ W^T$, $dW = X^T dZ$, and $dB = \\sum_{i=1}^{m} dZ_i$"
   ]
  },
  {
   "cell_type": "code",
   "execution_count": 199,
   "metadata": {},
   "outputs": [],
   "source": [
    "class Dense:\n",
    "    def __init__(\n",
    "        self,\n",
    "        neurons: int,\n",
    "        act: str = None,\n",
    "        use_bias: bool = True,\n",
    "        weight_type: str = None,\n",
    "        weight_regularizer: tuple = None,\n",
    "        seed: int = None,\n",
    "        inp_dim: int = None,\n",
    "    ) -> None:\n",
    "        \"\"\"\n",
    "        :param neurons: Number of neurons in the layer\n",
    "        :param act: Activation function to use (linear, sigmoid, tanh, reLU, softmax)\n",
    "        :param use_bias: Whether to use bias\n",
    "        :param weight_type: Type of weight initialization\n",
    "        :param weight_regularizer: Regularization term for the weights\n",
    "        :param seed: Seed for random initialization\n",
    "        :param inp_dim: Input dimension for the layer\n",
    "        \"\"\"\n",
    "        self.neurons = neurons\n",
    "        self.act = Activation(act=act)\n",
    "        self.use_bias = use_bias\n",
    "        self.weight_initializer = weight_type\n",
    "\n",
    "        if weight_regularizer is not None:\n",
    "            self.weight_regularizer = weight_regularizer\n",
    "        else:\n",
    "            self.weight_regularizer = (\"L2\", 0)\n",
    "\n",
    "        self.seed = seed\n",
    "        self.inp_dim = inp_dim\n",
    "\n",
    "    def initialize(self, hl: int, op_type: str) -> None:\n",
    "        \"\"\"\n",
    "        :param hl: Number of neurons in the previous layer\n",
    "        :param op_type: Type of optimizer to use (GD, SGD, RMSProp, Adam)\n",
    "        \"\"\"\n",
    "        shape_W = (hl, self.neurons)\n",
    "        shape_b = (self.neurons, 1)\n",
    "        initializer = WeightInitializer(\n",
    "            shape=shape_W, init=self.weight_initializer, seed=self.seed\n",
    "        )\n",
    "        self.W = initializer.get_initializer()\n",
    "        self.b = np.zeros(shape_b)\n",
    "\n",
    "        self.optimizer = Optimizer(op_type=op_type, shape_W=shape_W, shape_b=shape_b)\n",
    "\n",
    "    def forward(self, X: np.ndarray) -> np.ndarray:\n",
    "        self.X = X\n",
    "        self.net = X @ self.W + self.b.T\n",
    "        return self.act.forward(self.net)\n",
    "\n",
    "    def backpropagation(self, dA: np.ndarray) -> np.ndarray:\n",
    "        dZ = self.act.backpropagation(dA)\n",
    "        dR = dZ.copy()\n",
    "\n",
    "        self.dB: np.ndarray = np.sum(dZ, axis=0).reshape(-1, 1)\n",
    "        self.dW: np.ndarray = self.X.T @ dR\n",
    "        dX = dR @ self.W.T\n",
    "\n",
    "        return dX\n",
    "\n",
    "    def update(self, lr: float, b: int, k: int) -> None:\n",
    "        \"\"\"\n",
    "        :param lr: Learning rate for the optimizer\n",
    "        :param b: Batch size (sumble of samples in batch)\n",
    "        :param k: Iteration number\n",
    "        \"\"\"\n",
    "        dW, db = self.optimizer.get_optimizer(self.dW, self.dB, k)\n",
    "\n",
    "        if self.weight_regularizer[0].lower() == \"l2\":\n",
    "            dW += self.weight_regularizer[1] * self.W\n",
    "        elif self.weight_regularizer[0].lower() == \"l1\":\n",
    "            dW += self.weight_regularizer[1] * np.sign(self.W)\n",
    "\n",
    "        self.W -= dW * (lr / b)\n",
    "        if self.use_bias:\n",
    "            self.b -= db * (lr / b)"
   ]
  },
  {
   "cell_type": "markdown",
   "metadata": {},
   "source": [
    "#### 4.1.2. Dropout Layer\n",
    "This class will perform forward and backward propagation for a dropout layer."
   ]
  },
  {
   "cell_type": "code",
   "execution_count": 200,
   "metadata": {},
   "outputs": [],
   "source": [
    "class Dropout:\n",
    "    def __init__(self, p: int) -> None:\n",
    "        \"\"\"\n",
    "        :param p: Probability of dropout\n",
    "        \"\"\"\n",
    "        self.p = p\n",
    "        if self.p == 0:\n",
    "            self.p += 1e-6\n",
    "        if self.p == 1:\n",
    "            self.p -= 1e-6\n",
    "\n",
    "    def forward(self, X: np.ndarray) -> np.ndarray:\n",
    "        self.mask = (np.random.rand(*X.shape) < self.p) / self.p\n",
    "        return X * self.mask\n",
    "\n",
    "    def backpropagation(self, dZ: np.ndarray) -> np.ndarray:\n",
    "        return dZ * self.mask"
   ]
  },
  {
   "cell_type": "markdown",
   "metadata": {},
   "source": [
    "#### 4.1.3. Batch Normalization class\n"
   ]
  },
  {
   "cell_type": "markdown",
   "metadata": {},
   "source": [
    "### 4.2 With Keras"
   ]
  },
  {
   "cell_type": "code",
   "execution_count": 186,
   "metadata": {},
   "outputs": [],
   "source": [
    "from keras import models, layers"
   ]
  },
  {
   "cell_type": "code",
   "execution_count": 187,
   "metadata": {},
   "outputs": [],
   "source": [
    "inp_shape = X_train.shape[1:]"
   ]
  },
  {
   "cell_type": "code",
   "execution_count": 188,
   "metadata": {},
   "outputs": [
    {
     "name": "stdout",
     "output_type": "stream",
     "text": [
      "Model: \"sequential_5\"\n",
      "_________________________________________________________________\n",
      "Layer (type)                 Output Shape              Param #   \n",
      "=================================================================\n",
      "flatten_5 (Flatten)          (None, 784)               0         \n",
      "_________________________________________________________________\n",
      "dense_15 (Dense)             (None, 512)               401920    \n",
      "_________________________________________________________________\n",
      "dense_16 (Dense)             (None, 256)               131328    \n",
      "_________________________________________________________________\n",
      "dense_17 (Dense)             (None, 10)                2570      \n",
      "=================================================================\n",
      "Total params: 535,818\n",
      "Trainable params: 535,818\n",
      "Non-trainable params: 0\n",
      "_________________________________________________________________\n"
     ]
    }
   ],
   "source": [
    "model = models.Sequential(\n",
    "    [\n",
    "        layers.Flatten(input_shape=(28, 28)),\n",
    "        layers.Dense(512, activation=\"relu\"),\n",
    "        layers.Dense(256, activation=\"relu\"),\n",
    "        layers.Dense(10, activation=\"softmax\"),\n",
    "    ]\n",
    ")\n",
    "\n",
    "model.summary()"
   ]
  },
  {
   "cell_type": "code",
   "execution_count": 189,
   "metadata": {},
   "outputs": [],
   "source": [
    "model.compile(optimizer=\"adam\", loss=\"categorical_crossentropy\", metrics=\"accuracy\")"
   ]
  },
  {
   "cell_type": "code",
   "execution_count": 190,
   "metadata": {},
   "outputs": [
    {
     "name": "stdout",
     "output_type": "stream",
     "text": [
      "Epoch 1/15\n",
      "422/422 [==============================] - 1s 2ms/step - loss: 0.4369 - accuracy: 0.8723 - val_loss: 0.1020 - val_accuracy: 0.9708\n",
      "Epoch 2/15\n",
      "395/422 [===========================>..] - ETA: 0s - loss: 0.0955 - accuracy: 0.9708"
     ]
    },
    {
     "name": "stdout",
     "output_type": "stream",
     "text": [
      "422/422 [==============================] - 1s 2ms/step - loss: 0.0951 - accuracy: 0.9709 - val_loss: 0.0939 - val_accuracy: 0.9722\n",
      "Epoch 3/15\n",
      "422/422 [==============================] - 1s 2ms/step - loss: 0.0563 - accuracy: 0.9823 - val_loss: 0.0737 - val_accuracy: 0.9790\n",
      "Epoch 4/15\n",
      "422/422 [==============================] - 1s 2ms/step - loss: 0.0364 - accuracy: 0.9896 - val_loss: 0.0720 - val_accuracy: 0.9810\n",
      "Epoch 5/15\n",
      "422/422 [==============================] - 1s 2ms/step - loss: 0.0275 - accuracy: 0.9908 - val_loss: 0.0774 - val_accuracy: 0.9807\n",
      "Epoch 6/15\n",
      "422/422 [==============================] - 1s 2ms/step - loss: 0.0194 - accuracy: 0.9938 - val_loss: 0.0736 - val_accuracy: 0.9812\n",
      "Epoch 7/15\n",
      "422/422 [==============================] - 1s 2ms/step - loss: 0.0166 - accuracy: 0.9945 - val_loss: 0.0948 - val_accuracy: 0.9792\n",
      "Epoch 8/15\n",
      "422/422 [==============================] - 1s 2ms/step - loss: 0.0156 - accuracy: 0.9949 - val_loss: 0.0828 - val_accuracy: 0.9790\n",
      "Epoch 9/15\n",
      "422/422 [==============================] - 1s 2ms/step - loss: 0.0129 - accuracy: 0.9959 - val_loss: 0.0921 - val_accuracy: 0.9803\n",
      "Epoch 10/15\n",
      "422/422 [==============================] - 1s 2ms/step - loss: 0.0123 - accuracy: 0.9961 - val_loss: 0.0978 - val_accuracy: 0.9778\n",
      "Epoch 11/15\n",
      "422/422 [==============================] - 1s 1ms/step - loss: 0.0113 - accuracy: 0.9957 - val_loss: 0.0874 - val_accuracy: 0.9828\n",
      "Epoch 12/15\n",
      "422/422 [==============================] - 1s 2ms/step - loss: 0.0114 - accuracy: 0.9966 - val_loss: 0.0745 - val_accuracy: 0.9833\n",
      "Epoch 13/15\n",
      "422/422 [==============================] - 1s 1ms/step - loss: 0.0055 - accuracy: 0.9984 - val_loss: 0.1068 - val_accuracy: 0.9807\n",
      "Epoch 14/15\n",
      "422/422 [==============================] - 1s 1ms/step - loss: 0.0153 - accuracy: 0.9949 - val_loss: 0.0900 - val_accuracy: 0.9830\n",
      "Epoch 15/15\n",
      "422/422 [==============================] - 1s 1ms/step - loss: 0.0095 - accuracy: 0.9967 - val_loss: 0.0788 - val_accuracy: 0.9852\n"
     ]
    }
   ],
   "source": [
    "batch_size = 128\n",
    "epochs = 15\n",
    "\n",
    "history = model.fit(\n",
    "    X_train, y_train, batch_size=batch_size, epochs=epochs, validation_split=0.1\n",
    ")"
   ]
  },
  {
   "cell_type": "markdown",
   "metadata": {},
   "source": [
    "#### 4.2.1. Model results"
   ]
  },
  {
   "cell_type": "code",
   "execution_count": 191,
   "metadata": {},
   "outputs": [],
   "source": [
    "history_dict = history.history"
   ]
  },
  {
   "cell_type": "code",
   "execution_count": 192,
   "metadata": {},
   "outputs": [
    {
     "data": {
      "text/plain": [
       "dict_keys(['loss', 'accuracy', 'val_loss', 'val_accuracy'])"
      ]
     },
     "execution_count": 192,
     "metadata": {},
     "output_type": "execute_result"
    }
   ],
   "source": [
    "history_dict.keys()"
   ]
  },
  {
   "cell_type": "code",
   "execution_count": 193,
   "metadata": {},
   "outputs": [],
   "source": [
    "train_loss, val_loss = history_dict[\"loss\"], history_dict[\"val_loss\"]\n",
    "train_acc, val_acc = history_dict[\"accuracy\"], history_dict[\"val_accuracy\"]"
   ]
  },
  {
   "cell_type": "code",
   "execution_count": 194,
   "metadata": {},
   "outputs": [
    {
     "data": {
      "image/png": "[encoded data removed]",
      "text/plain": [
       "<Figure size 1500x500 with 2 Axes>"
      ]
     },
     "metadata": {},
     "output_type": "display_data"
    }
   ],
   "source": [
    "fig, (ax1, ax2) = plt.subplots(1, 2, figsize=(15, 5))\n",
    "epochs_run = [i for i in range(epochs)]\n",
    "\n",
    "ax1.plot(epochs_run, train_loss, label=\"Training loss\")\n",
    "ax1.plot(epochs_run, val_loss, label=\"Validation loss\", marker=\"o\")\n",
    "\n",
    "ax1.set_title(\"Training and validation loss\")\n",
    "ax1.set_xlabel(\"Epochs\")\n",
    "ax1.set_ylabel(\"Loss\")\n",
    "ax1.legend()\n",
    "\n",
    "ax2.plot(epochs_run, train_acc, label=\"Training accuracy\")\n",
    "ax2.plot(epochs_run, val_acc, label=\"Validation accuracy\", marker=\"o\")\n",
    "\n",
    "ax2.set_title(\"Training and validation accuracy\")\n",
    "ax2.set_xlabel(\"Epochs\")\n",
    "ax2.set_ylabel(\"Accuracy\")\n",
    "ax2.legend()\n",
    "\n",
    "plt.show()"
   ]
  },
  {
   "cell_type": "markdown",
   "metadata": {},
   "source": [
    "#### 4.2.1. Model prediction"
   ]
  },
  {
   "cell_type": "code",
   "execution_count": 195,
   "metadata": {},
   "outputs": [
    {
     "name": "stdout",
     "output_type": "stream",
     "text": [
      "Test loss: 0.07518557459115982\n",
      "Test accuracy: 0.9829000234603882\n"
     ]
    }
   ],
   "source": [
    "score = model.evaluate(X_test, y_test, verbose=0)\n",
    "print(\"Test loss:\", score[0])\n",
    "print(\"Test accuracy:\", score[1])"
   ]
  },
  {
   "cell_type": "code",
   "execution_count": 196,
   "metadata": {},
   "outputs": [],
   "source": [
    "y_pred = model.predict(X_test)"
   ]
  },
  {
   "cell_type": "code",
   "execution_count": 197,
   "metadata": {},
   "outputs": [
    {
     "data": {
      "image/png": "[encoded data removed]",
      "text/plain": [
       "<Figure size 800x400 with 8 Axes>"
      ]
     },
     "metadata": {},
     "output_type": "display_data"
    }
   ],
   "source": [
    "plot_data(X_test, np.argmax(y_test, axis=1), np.argmax(y_pred, axis=1))"
   ]
  }
 ],
 "metadata": {
  "kernelspec": {
   "display_name": "digit-recognition",
   "language": "python",
   "name": "python3"
  },
  "language_info": {
   "codemirror_mode": {
    "name": "ipython",
    "version": 3
   },
   "file_extension": ".py",
   "mimetype": "text/x-python",
   "name": "python",
   "nbconvert_exporter": "python",
   "pygments_lexer": "ipython3",
   "version": "3.9.12"
  }
 },
 "nbformat": 4,
 "nbformat_minor": 2
}
