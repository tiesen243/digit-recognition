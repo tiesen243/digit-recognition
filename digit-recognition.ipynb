{
 "cells": [
  {
   "cell_type": "markdown",
   "metadata": {},
   "source": [
    "# MNIST Prediction with Convolutional Neural Network\n",
    "\n",
    "- MNIST dataset: is a dataset of 60,000 28x28 grayscale images of the 10 digits, along with a test set of 10,000 images. More info can be found at the [MNIST homepage](http://yann.lecun.com/exdb/mnist/).\n",
    "- Goal: build a simple artificial neural network to predict the digit in the images."
   ]
  },
  {
   "cell_type": "markdown",
   "metadata": {},
   "source": [
    "#### Import libraries"
   ]
  },
  {
   "cell_type": "code",
   "execution_count": 19,
   "metadata": {},
   "outputs": [],
   "source": [
    "# numpy for linear algebra\n",
    "import numpy as np\n",
    "\n",
    "# matplotlib for plotting the images, loss and accuracy\n",
    "import matplotlib.pyplot as plt\n",
    "\n",
    "\n",
    "# tqdm for progress bar\n",
    "from tqdm import tqdm\n",
    "\n",
    "# scipy for convolve2d function\n",
    "from scipy import signal\n",
    "\n",
    "# keras for mnist dataset\n",
    "from keras import datasets"
   ]
  },
  {
   "cell_type": "markdown",
   "metadata": {},
   "source": [
    "#### 1. Libs "
   ]
  },
  {
   "cell_type": "markdown",
   "metadata": {},
   "source": [
    "##### 1.1. Base Layer class\n",
    "\n",
    "The base layer class is the parent class of all layers in the network. It has the following methods:\n",
    "- `forward`: forward pass of the layer\n",
    "- `backpropagation`: backward pass of the layer"
   ]
  },
  {
   "cell_type": "code",
   "execution_count": 20,
   "metadata": {},
   "outputs": [],
   "source": [
    "class BaseLayer:\n",
    "    def __init__(self) -> None:\n",
    "        self.input = None\n",
    "        self.output = None\n",
    "\n",
    "    def forward(self, X: np.ndarray) -> np.ndarray:\n",
    "        \"\"\"\n",
    "        :param X: input data\n",
    "\n",
    "        TODO: return the output of the layer\n",
    "        \"\"\"\n",
    "        pass\n",
    "\n",
    "    def backpropagation(self, dZ: np.ndarray, lr: float) -> np.ndarray:\n",
    "        \"\"\"\n",
    "        :param dZ: gradient of the loss with respect to the output of the layer\n",
    "        :param lr: learning rate\n",
    "\n",
    "        TODO: update parameters and return the gradient of the input\n",
    "        \"\"\"\n",
    "        pass"
   ]
  },
  {
   "cell_type": "markdown",
   "metadata": {},
   "source": [
    "##### 1.2. Weight Initialization\n",
    "\n",
    "The weight initialization class has the following methods:\n",
    "\n",
    "- `zeros`: initialize weights with zeros\n",
    "- `ones`: initialize weights with ones\n",
    "- `random`: initialize weights with random values\n",
    "- `random uniform`: initialize weights with random values from a uniform distribution"
   ]
  },
  {
   "cell_type": "code",
   "execution_count": 21,
   "metadata": {},
   "outputs": [],
   "source": [
    "class WeightInitializer:\n",
    "    def __init__(self, inp_size: int, out_size: int, act_type: str = None) -> None:\n",
    "        \"\"\"\n",
    "        :param inp_size: input size of the layer\n",
    "        :param out_size: output size of the layer\n",
    "        :param act_type: type of the activation function to be used (zeros, ones, random, random_uniform)\n",
    "        \"\"\"\n",
    "        if act_type is None:\n",
    "            self.act_type = \"random\"\n",
    "        else:\n",
    "            self.act_type = act_type\n",
    "\n",
    "        self.inp_size = inp_size\n",
    "        self.out_size = out_size\n",
    "\n",
    "    def zeros(self) -> np.ndarray:\n",
    "        return np.zeros(shape=(self.out_size, self.inp_size))\n",
    "\n",
    "    def ones(self) -> np.ndarray:\n",
    "        return np.ones(shape=(self.out_size, self.inp_size))\n",
    "\n",
    "    def random(self) -> np.ndarray:\n",
    "        return np.random.randn(self.out_size, self.inp_size)\n",
    "\n",
    "    def random_uniform(self) -> np.ndarray:\n",
    "        return np.random.uniform(-1, 1, (self.out_size, self.inp_size))\n",
    "\n",
    "    def get(self) -> np.ndarray:\n",
    "        if self.act_type == \"zeros\":\n",
    "            return self.zeros()\n",
    "        elif self.act_type == \"ones\":\n",
    "            return self.ones()\n",
    "        elif self.act_type == \"random\":\n",
    "            return self.random()\n",
    "        elif self.act_type == \"random_uniform\":\n",
    "            return self.random_uniform()\n",
    "        else:\n",
    "            raise ValueError(\"Invalid activation type\")"
   ]
  },
  {
   "cell_type": "markdown",
   "metadata": {},
   "source": [
    "##### 1.3. Cost Function\n",
    "\n",
    "The cost function class has the following methods:\n",
    "\n",
    "- `mean squared error`: mean squared error cost function: $C = \\frac{1}{2n} \\sum_x ||y - a||^2$\n",
    "- `binary cross entropy`: binary cross entropy cost function: $C = -\\frac{1}{n} \\sum_x [y \\ln a + (1 - y) \\ln (1 - a)]$"
   ]
  },
  {
   "cell_type": "code",
   "execution_count": 22,
   "metadata": {},
   "outputs": [],
   "source": [
    "class Cost:\n",
    "    def __init__(self, cost_type: str = \"mse\") -> None:\n",
    "        \"\"\"\n",
    "        :param cost_type: type of cost function to use (mse, cross_entropy)\n",
    "        \"\"\"\n",
    "        self.cost_type = cost_type\n",
    "\n",
    "    def mse(self, y_true: np.ndarray, y_pred: np.ndarray) -> np.ndarray:\n",
    "        \"\"\"\n",
    "        :param y_true: true values\n",
    "        :param y_pred: predicted values\n",
    "        \"\"\"\n",
    "        return np.mean((y_true - y_pred) ** 2)\n",
    "\n",
    "    def d_mse(self, y_true: np.ndarray, y_pred: np.ndarray) -> np.ndarray:\n",
    "        \"\"\"\n",
    "        :param y_true: true values\n",
    "        :param y_pred: predicted values\n",
    "        \"\"\"\n",
    "        return 2 * (y_pred - y_true) / np.size(y_true)\n",
    "\n",
    "    def cross_entropy(self, y_true: np.ndarray, y_pred: np.ndarray) -> np.ndarray:\n",
    "        \"\"\"\n",
    "        :param y_true: true values\n",
    "        :param y_pred: predicted values\n",
    "        \"\"\"\n",
    "        return -np.mean(y_true * np.log(y_pred) + (1 - y_true) * np.log(1 - y_pred))\n",
    "\n",
    "    def d_cross_entropy(self, y_true: np.ndarray, y_pred: np.ndarray) -> np.ndarray:\n",
    "        \"\"\"\n",
    "        :param y_true: true values\n",
    "        :param y_pred: predicted values\n",
    "        \"\"\"\n",
    "        return ((1 - y_true) / (1 - y_pred) - y_true / y_pred) / np.size(y_true)\n",
    "\n",
    "    def get_cost(self, y_true: np.ndarray, y_pred: np.ndarray) -> np.ndarray:\n",
    "        if self.cost_type == \"mse\":\n",
    "            return self.mse(y_true, y_pred)\n",
    "        elif self.cost_type == \"cross_entropy\":\n",
    "            return self.cross_entropy(y_true, y_pred)\n",
    "        else:\n",
    "            raise ValueError(\"Invalid cost type\")\n",
    "\n",
    "    def get_d_cost(self, y_true: np.ndarray, y_pred: np.ndarray) -> np.ndarray:\n",
    "        if self.cost_type == \"mse\":\n",
    "            return self.d_mse(y_true, y_pred)\n",
    "        elif self.cost_type == \"cross_entropy\":\n",
    "            return self.d_cross_entropy(y_true, y_pred)\n",
    "        else:\n",
    "            raise ValueError(\"Invalid cost type\")"
   ]
  },
  {
   "cell_type": "markdown",
   "metadata": {},
   "source": [
    "##### 1.4. Plotting function\n",
    "The plotting functions is used to plot the images and its true labels and predicted labels."
   ]
  },
  {
   "cell_type": "code",
   "execution_count": 23,
   "metadata": {},
   "outputs": [],
   "source": [
    "def plot_data(\n",
    "    X: np.ndarray,\n",
    "    y: np.ndarray,\n",
    "    y_proba: np.ndarray = None,\n",
    "    shape: tuple[int, int] = (2, 4),\n",
    ") -> None:\n",
    "    \"\"\"\n",
    "    :param X: input data (images)\n",
    "    :param y: true labels\n",
    "    :param y_proba: predicted labels\n",
    "    :param shape: shape of the plot (nrows, ncols)\n",
    "    \"\"\"\n",
    "    nrows, ncols = shape\n",
    "    _, axes = plt.subplots(nrows, ncols, figsize=(10, 5))\n",
    "\n",
    "    len_x = X.shape[0]\n",
    "    for idx in range(nrows * ncols):\n",
    "        ax = axes[idx // ncols, idx % ncols]\n",
    "\n",
    "        img_idx = np.random.randint(0, len_x)\n",
    "\n",
    "        ax.imshow(X[img_idx], cmap=\"gray\")\n",
    "        ax.set(xticks=[], yticks=[])\n",
    "\n",
    "        true_label = f\"True: {y[img_idx]}\"\n",
    "        color = \"black\"\n",
    "\n",
    "        if y_proba is not None:\n",
    "            pred_label = f\"Pred: {y_proba[img_idx]}\"\n",
    "            color = \"green\" if y[img_idx] == y_proba[img_idx] else \"red\"\n",
    "\n",
    "        img_title = true_label if y_proba is None else f\"{true_label}\\n{pred_label}\"\n",
    "        ax.set_xlabel(img_title, color=color)\n",
    "\n",
    "    plt.tight_layout()\n",
    "    plt.show()"
   ]
  },
  {
   "cell_type": "markdown",
   "metadata": {},
   "source": [
    "#### 2. Layers"
   ]
  },
  {
   "cell_type": "markdown",
   "metadata": {},
   "source": [
    "##### 2.1. Convolutional Layer"
   ]
  },
  {
   "cell_type": "code",
   "execution_count": 24,
   "metadata": {},
   "outputs": [],
   "source": [
    "class Conv2D(BaseLayer):\n",
    "    def __init__(\n",
    "        self, inp_shape: tuple[int, int, int], kernel_size: int = 3, depth: int = 1\n",
    "    ):\n",
    "        \"\"\"\n",
    "        :param inp_shape: shape of the input data\n",
    "        :param kernel_size: size of the kernel\n",
    "        :param depth: depth of the output data\n",
    "        \"\"\"\n",
    "        inp_depth, inp_height, inp_width = inp_shape\n",
    "        self.depth = depth\n",
    "        self.inp_shape = inp_shape\n",
    "        self.inp_depth = inp_depth\n",
    "\n",
    "        self.out_shape = (\n",
    "            depth,\n",
    "            inp_height - kernel_size + 1,\n",
    "            inp_width - kernel_size + 1,\n",
    "        )\n",
    "        self.kernels_shape = (depth, inp_depth, kernel_size, kernel_size)\n",
    "        self.kernels = np.random.randn(*self.kernels_shape)\n",
    "        self.bias = np.random.randn(*self.out_shape)\n",
    "\n",
    "    def forward(self, X: np.ndarray) -> np.ndarray:\n",
    "        self.X = X\n",
    "        self.output = np.copy(self.bias)\n",
    "\n",
    "        for row in range(self.depth):\n",
    "            for col in range(self.inp_depth):\n",
    "                self.output[row] += signal.convolve2d(\n",
    "                    self.X[col], self.kernels[row, col], mode=\"valid\"\n",
    "                )\n",
    "\n",
    "        return self.output\n",
    "\n",
    "    def backpropagation(self, dZ: np.ndarray, lr: float) -> np.ndarray:\n",
    "        dK = np.zeros(self.kernels_shape)\n",
    "        dX = np.zeros(self.inp_shape)\n",
    "\n",
    "        for row in range(self.depth):\n",
    "            for col in range(self.inp_depth):\n",
    "                dK[row, col] = signal.convolve2d(self.X[col], dZ[row], mode=\"valid\")\n",
    "                dX[col] += signal.convolve2d(\n",
    "                    dZ[row], self.kernels[row, col], mode=\"full\"\n",
    "                )\n",
    "        self.kernels -= lr * dK\n",
    "        self.bias -= lr * dZ\n",
    "        return dX"
   ]
  },
  {
   "cell_type": "markdown",
   "metadata": {},
   "source": [
    "##### 2.2. Dense Layer class"
   ]
  },
  {
   "cell_type": "code",
   "execution_count": 25,
   "metadata": {},
   "outputs": [],
   "source": [
    "class Dense(BaseLayer):\n",
    "    def __init__(self, inp_size: int, out_size: int) -> None:\n",
    "        \"\"\"\n",
    "        :param inp_size: input size of the layer\n",
    "        :param out_size: output size of the layer\n",
    "        \"\"\"\n",
    "        self.weights = WeightInitializer(inp_size, out_size).get()\n",
    "        self.bias = WeightInitializer(1, out_size).get()\n",
    "\n",
    "    def forward(self, X: np.ndarray) -> np.ndarray:\n",
    "        self.X = X\n",
    "        return np.dot(self.weights, self.X) + self.bias\n",
    "\n",
    "    def backpropagation(self, dZ: np.ndarray, lr: float) -> np.ndarray:\n",
    "        dW = np.dot(dZ, self.X.T)\n",
    "        self.weights -= lr * dW\n",
    "        self.bias -= lr * dZ\n",
    "        return np.dot(self.weights.T, dZ)"
   ]
  },
  {
   "cell_type": "markdown",
   "metadata": {},
   "source": [
    "##### 2.3. Activation Layer class\n",
    "\n",
    "- `linear`: linear activation function $f(x) = x$\n",
    "- `reLU`: rectified linear unit activation function $f(x) = max(0, x)$\n",
    "- `sigmoid`: sigmoid activation function $f(x) = \\frac{1}{1 + e^{-x}}$\n",
    "- `tanh`: hyperbolic tangent activation function $f(x) = \\frac{e^x - e^{-x}}{e^x + e^{-x}}$"
   ]
  },
  {
   "cell_type": "code",
   "execution_count": 26,
   "metadata": {},
   "outputs": [],
   "source": [
    "class Activation(BaseLayer):\n",
    "    def __init__(self, act_type: str = \"reLU\") -> None:\n",
    "        \"\"\"\n",
    "        :param act_type: type of the activation function to be used (linear, reLU, sigmoid, tanh)\n",
    "        \"\"\"\n",
    "        self.act_type = act_type\n",
    "\n",
    "    def linear(self, X: np.ndarray) -> np.ndarray:\n",
    "        return X\n",
    "\n",
    "    def d_linear(self, X: np.ndarray) -> np.ndarray:\n",
    "        return 1\n",
    "\n",
    "    def reLU(self, X: np.ndarray) -> np.ndarray:\n",
    "        return np.maximum(0, X)\n",
    "\n",
    "    def d_reLU(self, X: np.ndarray) -> np.ndarray:\n",
    "        return np.where(X > 0, 1, 0)\n",
    "\n",
    "    def sigmoid(self, X: np.ndarray) -> np.ndarray:\n",
    "        return 1 / (1 + np.exp(-X))\n",
    "\n",
    "    def d_sigmoid(self, X: np.ndarray) -> np.ndarray:\n",
    "        return self.sigmoid(X) * (1 - self.sigmoid(X))\n",
    "\n",
    "    def tanh(self, X: np.ndarray) -> np.ndarray:\n",
    "        return np.tanh(X)\n",
    "\n",
    "    def d_tanh(self, X: np.ndarray) -> np.ndarray:\n",
    "        return 1 - np.tanh(X) ** 2\n",
    "\n",
    "    def get_activation(self, X: np.ndarray) -> np.ndarray:\n",
    "        if self.act_type == \"linear\":\n",
    "            return self.linear(X)\n",
    "        elif self.act_type == \"reLU\":\n",
    "            return self.reLU(X)\n",
    "        elif self.act_type == \"sigmoid\":\n",
    "            return self.sigmoid(X)\n",
    "        elif self.act_type == \"tanh\":\n",
    "            return self.tanh(X)\n",
    "        else:\n",
    "            raise ValueError(\"Invalid activation type\")\n",
    "\n",
    "    def get_d_activation(self, X: np.ndarray) -> np.ndarray:\n",
    "        if self.act_type == \"linear\":\n",
    "            return self.d_linear(X)\n",
    "        elif self.act_type == \"reLU\":\n",
    "            return self.d_reLU(X)\n",
    "        elif self.act_type == \"sigmoid\":\n",
    "            return self.d_sigmoid(X)\n",
    "        elif self.act_type == \"tanh\":\n",
    "            return self.d_tanh(X)\n",
    "        else:\n",
    "            raise ValueError(\"Invalid activation type\")\n",
    "\n",
    "    def forward(self, X: np.ndarray) -> np.ndarray:\n",
    "        self.X = X\n",
    "        return self.get_activation(self.X)\n",
    "\n",
    "    def backpropagation(self, dZ: np.ndarray, lr: float) -> np.ndarray:\n",
    "        return np.multiply(dZ, self.get_d_activation(self.X))"
   ]
  },
  {
   "cell_type": "markdown",
   "metadata": {},
   "source": [
    "##### 2.4. Reshape Layer class"
   ]
  },
  {
   "cell_type": "code",
   "execution_count": 27,
   "metadata": {},
   "outputs": [],
   "source": [
    "class Reshape(BaseLayer):\n",
    "    def __init__(self, inp_shape, out_shape) -> None:\n",
    "        \"\"\"\n",
    "        :param inp_shape: shape of the input data\n",
    "        :param out_shape: shape of the output data\n",
    "        \"\"\"\n",
    "        self.inp_shape = inp_shape\n",
    "        self.out_shape = out_shape\n",
    "\n",
    "    def forward(self, X: np.ndarray) -> np.ndarray:\n",
    "        return np.reshape(X, self.out_shape)\n",
    "\n",
    "    def backpropagation(self, dZ: np.ndarray, lr: float) -> np.ndarray:\n",
    "        return np.reshape(dZ, self.inp_shape)"
   ]
  },
  {
   "cell_type": "markdown",
   "metadata": {},
   "source": [
    "#### 3. Convolutional Neural Network (CNN) Model class"
   ]
  },
  {
   "cell_type": "code",
   "execution_count": 28,
   "metadata": {},
   "outputs": [],
   "source": [
    "class CNN:\n",
    "    def __init__(self, layers: list[BaseLayer]) -> None:\n",
    "        if not layers:\n",
    "            raise ValueError(\"No layers provided\")\n",
    "        else:\n",
    "            self.layers = layers\n",
    "\n",
    "        # Initialize the network architecture\n",
    "        self.layer_name = []\n",
    "        self.architecture = []\n",
    "\n",
    "    def create_network_architecture(self):\n",
    "        for layer in self.layers:\n",
    "            if layer.__class__.__name__ == \"Conv2D\":\n",
    "                self.layer_name.append(\"Conv2D\")\n",
    "                self.architecture.append(layer.kernels_shape)\n",
    "            elif layer.__class__.__name__ == \"Dense\":\n",
    "                self.layer_name.append(\"Dense\")\n",
    "                self.architecture.append(layer.weights.shape)\n",
    "            elif layer.__class__.__name__ == \"Activation\":\n",
    "                self.layer_name.append(\"Activation\")\n",
    "                self.architecture.append(None)\n",
    "            elif layer.__class__.__name__ == \"Reshape\":\n",
    "                self.layer_name.append(\"Reshape\")\n",
    "                self.architecture.append(layer.out_shape)\n",
    "\n",
    "    def compile(self, cost_type: str, lr: float, verbose: bool = True) -> None:\n",
    "        \"\"\"\n",
    "        :param cost_type: type of cost function to use (mse, cross_entropy)\n",
    "        :param lr: learning rate\n",
    "        :param verbose: whether to print the cost and accuracy after each epoch\n",
    "        \"\"\"\n",
    "        self.cost = Cost(cost_type)\n",
    "        self.lr = lr\n",
    "        self.verbose = verbose\n",
    "\n",
    "    def summary(self) -> None:\n",
    "        self.create_network_architecture()\n",
    "        len_assigned = [45, 26, 15]\n",
    "        count = {\n",
    "            \"Dense\": 1,\n",
    "            \"Activation\": 1,\n",
    "            \"Conv2D\": 1,\n",
    "            \"Reshape\": 1,\n",
    "        }\n",
    "        col_names = [\"Layer (type)\", \"Output Shape\", \"Param #\"]\n",
    "        print(\"Model: CNN\")\n",
    "        print(\"-\" * sum(len_assigned))\n",
    "\n",
    "        text = \"\"\n",
    "        for i in range(3):\n",
    "            text += col_names[i] + \" \" * (len_assigned[i] - len(col_names[i]))\n",
    "        print(text)\n",
    "        print(\"=\" * sum(len_assigned))\n",
    "\n",
    "        total_params = 0\n",
    "        for i in range(len(self.layer_name)):\n",
    "            layer_name = self.layer_name[i]\n",
    "            name = f\"{layer_name.lower()}_{count[layer_name]} ({layer_name})\"\n",
    "\n",
    "            count[layer_name] += 1\n",
    "            if self.architecture[i] is None:\n",
    "                print(\n",
    "                    f\"{name}{' ' * (len_assigned[0] - len(name))}{' ' * (len_assigned[1] - 2)}{' ' * (len_assigned[2] - 2)}\"\n",
    "                )\n",
    "                continue\n",
    "\n",
    "            total_params += np.prod(self.architecture[i])\n",
    "            output_shape = self.architecture[i]\n",
    "            output_shape = f\"({', '.join(map(str, output_shape))})\"\n",
    "            params = np.prod(self.architecture[i])\n",
    "\n",
    "            print(\n",
    "                f\"{name}{' ' * (len_assigned[0] - len(name))}{output_shape}{' ' * (len_assigned[1] - len(output_shape))}{params}\"\n",
    "            )\n",
    "\n",
    "        print(\"=\" * sum(len_assigned))\n",
    "\n",
    "        print(f\"Total params: {total_params}\")\n",
    "        print(f\"Cost function: {self.cost.cost_type}\")\n",
    "        print(f\"Learning rate: {self.lr}\")\n",
    "        print(f\"Verbose: {self.verbose}\")\n",
    "        print(\"-\" * sum(len_assigned))\n",
    "\n",
    "    def fit(self, X: np.ndarray, y: np.ndarray, epochs: int = 1000) -> None:\n",
    "        \"\"\"\n",
    "        :param X: input data\n",
    "        :param y: true labels\n",
    "        :param epochs: number of epochs to train the model\n",
    "        \"\"\"\n",
    "\n",
    "        # Initialize the history dictionary\n",
    "        self.history = {\"cost\": [], \"accuracy\": []}\n",
    "\n",
    "        for epoch in range(epochs):\n",
    "            # Initialize the error and correct predictions\n",
    "            error = 0\n",
    "            correct = 0\n",
    "\n",
    "            print(f\"Epoch {epoch + 1}/{epochs}\")\n",
    "            for i in tqdm(range(len(X))):\n",
    "                output = X[i]\n",
    "                for layer in self.layers:\n",
    "                    output = layer.forward(output)\n",
    "\n",
    "                error += self.cost.get_cost(y[i], output)\n",
    "                correct += int(np.argmax(output) == np.argmax(y[i]))\n",
    "\n",
    "                dZ = self.cost.get_d_cost(y[i], output)\n",
    "                for layer in reversed(self.layers):\n",
    "                    dZ = layer.backpropagation(dZ, self.lr)\n",
    "\n",
    "            self.history[\"cost\"].append(error / len(X))\n",
    "            self.history[\"accuracy\"].append(correct / len(X))\n",
    "\n",
    "            if self.verbose:\n",
    "                print(\n",
    "                    f\"Cost: {self.history['cost'][-1]:.4f}, Accuracy: {self.history['accuracy'][-1]:.4f}\"\n",
    "                )\n",
    "\n",
    "    def plot_history(self) -> None:\n",
    "        _, ax = plt.subplots(1, 2, figsize=(15, 5))\n",
    "\n",
    "        ax[0].plot(self.history[\"cost\"])\n",
    "        ax[0].set_title(\"Cost\")\n",
    "        ax[0].set_xlabel(\"Epoch\")\n",
    "        ax[0].set_ylabel(\"Cost\")\n",
    "\n",
    "        ax[1].plot(self.history[\"accuracy\"])\n",
    "        ax[1].set_title(\"Accuracy\")\n",
    "        ax[1].set_xlabel(\"Epoch\")\n",
    "        ax[1].set_ylabel(\"Accuracy\")\n",
    "\n",
    "        plt.tight_layout()\n",
    "        plt.show()\n",
    "\n",
    "    def predict(self, X: np.ndarray) -> np.ndarray:\n",
    "        predictions = []\n",
    "        for i in range(len(X)):\n",
    "            output = X[i]\n",
    "            for layer in self.layers:\n",
    "                output = layer.forward(output)\n",
    "            predictions.append(output)\n",
    "\n",
    "        return np.array(predictions)"
   ]
  },
  {
   "cell_type": "markdown",
   "metadata": {},
   "source": [
    "#### 4. Training the model with MNIST dataset"
   ]
  },
  {
   "cell_type": "code",
   "execution_count": 29,
   "metadata": {},
   "outputs": [
    {
     "data": {
      "image/png": "[encoded data removed]",
      "text/plain": [
       "<Figure size 1000x500 with 8 Axes>"
      ]
     },
     "metadata": {},
     "output_type": "display_data"
    }
   ],
   "source": [
    "(X_train, y_train), (X_test, y_test) = datasets.mnist.load_data()\n",
    "plot_data(X_train, y_train)"
   ]
  },
  {
   "cell_type": "markdown",
   "metadata": {},
   "source": [
    "##### 4.1. Preprocessing the data"
   ]
  },
  {
   "cell_type": "code",
   "execution_count": 30,
   "metadata": {},
   "outputs": [],
   "source": [
    "# Normalize the data\n",
    "X_train = X_train.reshape(len(X_train), 1, 28, 28)\n",
    "X_test = X_test.reshape(len(X_test), 1, 28, 28)"
   ]
  },
  {
   "cell_type": "code",
   "execution_count": 31,
   "metadata": {},
   "outputs": [],
   "source": [
    "# Convert to [0, 1] range\n",
    "X_train = X_train.astype(\"float32\") / 255\n",
    "X_test = X_test.astype(\"float32\") / 255"
   ]
  },
  {
   "cell_type": "code",
   "execution_count": 32,
   "metadata": {},
   "outputs": [],
   "source": [
    "# One-hot encode the labels\n",
    "y_train = np.eye(10)[y_train]\n",
    "y_test = np.eye(10)[y_test]\n",
    "\n",
    "# Reshape the labels\n",
    "y_train = y_train.reshape(len(y_train), 10, 1)\n",
    "y_test = y_test.reshape(len(y_test), 10, 1)"
   ]
  },
  {
   "cell_type": "markdown",
   "metadata": {},
   "source": [
    "##### 4.2. Training the model"
   ]
  },
  {
   "cell_type": "code",
   "execution_count": 33,
   "metadata": {},
   "outputs": [],
   "source": [
    "model = CNN(\n",
    "    [\n",
    "        Conv2D((1, 28, 28), 3, 5),\n",
    "        Activation(act_type=\"sigmoid\"),\n",
    "        Reshape((5, 26, 26), (5 * 26 * 26, 1)),\n",
    "        Dense(5 * 26 * 26, 100),\n",
    "        Activation(act_type=\"sigmoid\"),\n",
    "        Dense(100, 10),\n",
    "        Activation(act_type=\"sigmoid\"),\n",
    "    ]\n",
    ")\n",
    "\n",
    "model.compile(cost_type=\"cross_entropy\", lr=0.01)"
   ]
  },
  {
   "cell_type": "code",
   "execution_count": 34,
   "metadata": {},
   "outputs": [
    {
     "name": "stdout",
     "output_type": "stream",
     "text": [
      "Model: CNN\n",
      "--------------------------------------------------------------------------------------\n",
      "Layer (type)                                 Output Shape              Param #        \n",
      "======================================================================================\n",
      "conv2d_1 (Conv2D)                            (5, 1, 3, 3)              45\n",
      "activation_1 (Activation)                                                         \n",
      "reshape_1 (Reshape)                          (3380, 1)                 3380\n",
      "dense_1 (Dense)                              (100, 3380)               338000\n",
      "activation_2 (Activation)                                                         \n",
      "dense_2 (Dense)                              (10, 100)                 1000\n",
      "activation_3 (Activation)                                                         \n",
      "======================================================================================\n",
      "Total params: 342425\n",
      "Cost function: cross_entropy\n",
      "Learning rate: 0.01\n",
      "Verbose: True\n",
      "--------------------------------------------------------------------------------------\n"
     ]
    }
   ],
   "source": [
    "model.summary()"
   ]
  },
  {
   "cell_type": "code",
   "execution_count": 35,
   "metadata": {},
   "outputs": [
    {
     "name": "stdout",
     "output_type": "stream",
     "text": [
      "Epoch 1/15\n"
     ]
    },
    {
     "name": "stderr",
     "output_type": "stream",
     "text": [
      "100%|██████████| 60000/60000 [01:13<00:00, 811.57it/s]\n"
     ]
    },
    {
     "name": "stdout",
     "output_type": "stream",
     "text": [
      "Cost: 0.2874, Accuracy: 0.3405\n",
      "Epoch 2/15\n"
     ]
    },
    {
     "name": "stderr",
     "output_type": "stream",
     "text": [
      "100%|██████████| 60000/60000 [01:17<00:00, 779.18it/s]\n"
     ]
    },
    {
     "name": "stdout",
     "output_type": "stream",
     "text": [
      "Cost: 0.2462, Accuracy: 0.4528\n",
      "Epoch 3/15\n"
     ]
    },
    {
     "name": "stderr",
     "output_type": "stream",
     "text": [
      "100%|██████████| 60000/60000 [01:16<00:00, 785.50it/s]\n"
     ]
    },
    {
     "name": "stdout",
     "output_type": "stream",
     "text": [
      "Cost: 0.2159, Accuracy: 0.5544\n",
      "Epoch 4/15\n"
     ]
    },
    {
     "name": "stderr",
     "output_type": "stream",
     "text": [
      "100%|██████████| 60000/60000 [01:14<00:00, 804.76it/s]\n"
     ]
    },
    {
     "name": "stdout",
     "output_type": "stream",
     "text": [
      "Cost: 0.1889, Accuracy: 0.6265\n",
      "Epoch 5/15\n"
     ]
    },
    {
     "name": "stderr",
     "output_type": "stream",
     "text": [
      "100%|██████████| 60000/60000 [01:15<00:00, 797.12it/s]\n"
     ]
    },
    {
     "name": "stdout",
     "output_type": "stream",
     "text": [
      "Cost: 0.1769, Accuracy: 0.6567\n",
      "Epoch 6/15\n"
     ]
    },
    {
     "name": "stderr",
     "output_type": "stream",
     "text": [
      "100%|██████████| 60000/60000 [01:13<00:00, 814.87it/s]\n"
     ]
    },
    {
     "name": "stdout",
     "output_type": "stream",
     "text": [
      "Cost: 0.1719, Accuracy: 0.6629\n",
      "Epoch 7/15\n"
     ]
    },
    {
     "name": "stderr",
     "output_type": "stream",
     "text": [
      "100%|██████████| 60000/60000 [01:12<00:00, 826.68it/s]\n"
     ]
    },
    {
     "name": "stdout",
     "output_type": "stream",
     "text": [
      "Cost: 0.1695, Accuracy: 0.6724\n",
      "Epoch 8/15\n"
     ]
    },
    {
     "name": "stderr",
     "output_type": "stream",
     "text": [
      "100%|██████████| 60000/60000 [01:12<00:00, 824.98it/s]\n"
     ]
    },
    {
     "name": "stdout",
     "output_type": "stream",
     "text": [
      "Cost: 0.1488, Accuracy: 0.7280\n",
      "Epoch 9/15\n"
     ]
    },
    {
     "name": "stderr",
     "output_type": "stream",
     "text": [
      "100%|██████████| 60000/60000 [01:11<00:00, 833.84it/s]\n"
     ]
    },
    {
     "name": "stdout",
     "output_type": "stream",
     "text": [
      "Cost: 0.1337, Accuracy: 0.7624\n",
      "Epoch 10/15\n"
     ]
    },
    {
     "name": "stderr",
     "output_type": "stream",
     "text": [
      "100%|██████████| 60000/60000 [01:11<00:00, 835.88it/s]\n"
     ]
    },
    {
     "name": "stdout",
     "output_type": "stream",
     "text": [
      "Cost: 0.1198, Accuracy: 0.7939\n",
      "Epoch 11/15\n"
     ]
    },
    {
     "name": "stderr",
     "output_type": "stream",
     "text": [
      "100%|██████████| 60000/60000 [01:10<00:00, 847.11it/s]\n"
     ]
    },
    {
     "name": "stdout",
     "output_type": "stream",
     "text": [
      "Cost: 0.1085, Accuracy: 0.8169\n",
      "Epoch 12/15\n"
     ]
    },
    {
     "name": "stderr",
     "output_type": "stream",
     "text": [
      "100%|██████████| 60000/60000 [01:12<00:00, 833.09it/s]\n"
     ]
    },
    {
     "name": "stdout",
     "output_type": "stream",
     "text": [
      "Cost: 0.1007, Accuracy: 0.8326\n",
      "Epoch 13/15\n"
     ]
    },
    {
     "name": "stderr",
     "output_type": "stream",
     "text": [
      "100%|██████████| 60000/60000 [01:11<00:00, 833.66it/s]\n"
     ]
    },
    {
     "name": "stdout",
     "output_type": "stream",
     "text": [
      "Cost: 0.0952, Accuracy: 0.8428\n",
      "Epoch 14/15\n"
     ]
    },
    {
     "name": "stderr",
     "output_type": "stream",
     "text": [
      "100%|██████████| 60000/60000 [01:10<00:00, 848.35it/s]\n"
     ]
    },
    {
     "name": "stdout",
     "output_type": "stream",
     "text": [
      "Cost: 0.0907, Accuracy: 0.8520\n",
      "Epoch 15/15\n"
     ]
    },
    {
     "name": "stderr",
     "output_type": "stream",
     "text": [
      "100%|██████████| 60000/60000 [01:10<00:00, 845.48it/s]"
     ]
    },
    {
     "name": "stdout",
     "output_type": "stream",
     "text": [
      "Cost: 0.0869, Accuracy: 0.8588\n"
     ]
    },
    {
     "name": "stderr",
     "output_type": "stream",
     "text": [
      "\n"
     ]
    }
   ],
   "source": [
    "model.fit(X_train, y_train, epochs=15)"
   ]
  },
  {
   "cell_type": "markdown",
   "metadata": {},
   "source": [
    "##### 4.3. Model results"
   ]
  },
  {
   "cell_type": "code",
   "execution_count": 36,
   "metadata": {},
   "outputs": [
    {
     "data": {
      "image/png": "[encoded data removed]",
      "text/plain": [
       "<Figure size 1500x500 with 2 Axes>"
      ]
     },
     "metadata": {},
     "output_type": "display_data"
    }
   ],
   "source": [
    "model.plot_history()"
   ]
  },
  {
   "cell_type": "code",
   "execution_count": 37,
   "metadata": {},
   "outputs": [
    {
     "name": "stdout",
     "output_type": "stream",
     "text": [
      "Accuracy: 0.8617\n"
     ]
    }
   ],
   "source": [
    "y_pred = model.predict(X_test)\n",
    "\n",
    "print(f\"Accuracy: {np.mean(np.argmax(y_pred, axis=1) == np.argmax(y_test, axis=1))}\")"
   ]
  },
  {
   "cell_type": "code",
   "execution_count": 38,
   "metadata": {},
   "outputs": [
    {
     "data": {
      "image/png": "[encoded data removed]",
      "text/plain": [
       "<Figure size 1000x500 with 8 Axes>"
      ]
     },
     "metadata": {},
     "output_type": "display_data"
    }
   ],
   "source": [
    "plot_data(\n",
    "    X_test.reshape(len(X_test), 28, 28),\n",
    "    np.argmax(y_test, axis=1),\n",
    "    np.argmax(y_pred, axis=1),\n",
    ")"
   ]
  }
 ],
 "metadata": {
  "kernelspec": {
   "display_name": "digit-recognition",
   "language": "python",
   "name": "python3"
  },
  "language_info": {
   "codemirror_mode": {
    "name": "ipython",
    "version": 3
   },
   "file_extension": ".py",
   "mimetype": "text/x-python",
   "name": "python",
   "nbconvert_exporter": "python",
   "pygments_lexer": "ipython3",
   "version": "3.10.14"
  }
 },
 "nbformat": 4,
 "nbformat_minor": 2
}
