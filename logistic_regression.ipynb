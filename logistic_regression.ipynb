{
  "cells": [
    {
      "cell_type": "markdown",
      "metadata": {
        "id": "view-in-github",
        "colab_type": "text"
      },
      "source": [
        "<a href=\"https://colab.research.google.com/github/tiesen243/digit-recognition/blob/main/logistic_regression.ipynb\" target=\"_parent\"><img src=\"https://colab.research.google.com/assets/colab-badge.svg\" alt=\"Open In Colab\"/></a>"
      ]
    },
    {
      "cell_type": "markdown",
      "source": [
        "## Import libraries"
      ],
      "metadata": {
        "id": "Bzh-P0oXnxMz"
      },
      "id": "Bzh-P0oXnxMz"
    },
    {
      "cell_type": "code",
      "source": [
        "import os\n",
        "import numpy as np\n",
        "import matplotlib.pyplot as plt\n",
        "\n",
        "from google.colab import drive\n",
        "from sklearn.datasets import load_iris\n",
        "from sklearn.model_selection import train_test_split"
      ],
      "metadata": {
        "id": "HajFPHuq3qjU"
      },
      "id": "HajFPHuq3qjU",
      "execution_count": 260,
      "outputs": []
    },
    {
      "cell_type": "markdown",
      "source": [
        "## Model"
      ],
      "metadata": {
        "id": "TOdrckjYn0_-"
      },
      "id": "TOdrckjYn0_-"
    },
    {
      "cell_type": "markdown",
      "source": [
        "### Utils"
      ],
      "metadata": {
        "id": "XRI4EN9g4ucQ"
      },
      "id": "XRI4EN9g4ucQ"
    },
    {
      "cell_type": "code",
      "source": [
        "def softmax(z: np.ndarray) -> np.ndarray:\n",
        "  return np.exp(z) / np.sum(np.exp(z), axis=1).reshape(-1,1)"
      ],
      "metadata": {
        "id": "Zweeqztan6VR"
      },
      "id": "Zweeqztan6VR",
      "execution_count": 261,
      "outputs": []
    },
    {
      "cell_type": "code",
      "source": [
        "def cross_entropy(y: np.ndarray, probs: np.ndarray):\n",
        "  return -1 * np.mean(y * np.log(probs))"
      ],
      "metadata": {
        "id": "to_sKDR74gA2"
      },
      "id": "to_sKDR74gA2",
      "execution_count": 262,
      "outputs": []
    },
    {
      "cell_type": "code",
      "source": [
        "def maximun_likelihood(y: np.ndarray, probs: np.ndarray):\n",
        "  return -1 * np.mean(np.log(probs[np.arange(len(y)), y]))"
      ],
      "metadata": {
        "id": "BnA0s_7S9q7s"
      },
      "id": "BnA0s_7S9q7s",
      "execution_count": 263,
      "outputs": []
    },
    {
      "cell_type": "code",
      "source": [
        "def one_hot(y: np.ndarray) -> np.ndarray:\n",
        "  return np.eye(len(np.unique(y)))[y]"
      ],
      "metadata": {
        "id": "GmsOVtjR36aL"
      },
      "id": "GmsOVtjR36aL",
      "execution_count": 264,
      "outputs": []
    },
    {
      "cell_type": "markdown",
      "source": [
        "### LogisticRegression class"
      ],
      "metadata": {
        "id": "eFYfgmL74xfP"
      },
      "id": "eFYfgmL74xfP"
    },
    {
      "cell_type": "code",
      "source": [
        "class LogisticRegression:\n",
        "    def __init__(self, lr: float = 0.001, n_iter: int = 1000):\n",
        "        \"\"\"\n",
        "        Initialize the LogisticRegression model.\n",
        "\n",
        "        Parameters\n",
        "        ----------\n",
        "        lr : float\n",
        "            The learning rate.\n",
        "        n_iter : int\n",
        "            The number of iterations.\n",
        "        loss : str\n",
        "            The loss function to use.\n",
        "        \"\"\"\n",
        "        self.lr = lr\n",
        "        self.n_iter = n_iter\n",
        "\n",
        "        self.weights: np.ndarray\n",
        "        self.bias: np.ndarray\n",
        "\n",
        "        self.loss: list = []\n",
        "        self.accuracy: list = []\n",
        "\n",
        "    def fit(self, X: np.ndarray, y: np.ndarray, loss: str = 'mle', seed: int = 69, verbose: bool = False) -> None:\n",
        "      \"\"\"\n",
        "      Fit the model to the data.\n",
        "\n",
        "      Parameters\n",
        "      ----------\n",
        "      X : np.ndarray\n",
        "          The input data.\n",
        "      y : np.ndarray\n",
        "          The target data.\n",
        "      seed : int, optional\n",
        "          The random seed to use, by default 69.\n",
        "      verbose : bool, optional\n",
        "          Whether to print the loss and accuracy of the model during training, by default False.\n",
        "      \"\"\"\n",
        "      np.random.seed(seed)\n",
        "      n_samples, n_features = X.shape\n",
        "      n_classes = len(np.unique(y))\n",
        "\n",
        "      self.weights = np.zeros((n_features, n_classes))\n",
        "      self.bias = np.zeros(n_classes)\n",
        "      self.get_loss(loss)\n",
        "\n",
        "      X_train, X_val, y_train, y_val = train_test_split(X, y, test_size=0.2)\n",
        "\n",
        "      for i in range(self.n_iter):\n",
        "        y_pred = self.predict_proba(X_train)\n",
        "\n",
        "        self.loss.append(self.loss_func(one_hot(y_train), y_pred))\n",
        "        self.accuracy.append(self.score(X_val, y_val))\n",
        "\n",
        "        error = y_pred - one_hot(y_train)\n",
        "        dw = (1 / n_samples) * np.dot(X_train.T, error)\n",
        "        db = (1 / n_samples) * np.sum(error)\n",
        "\n",
        "        self.weights -= self.lr * dw\n",
        "        self.bias -= self.lr * db\n",
        "\n",
        "        if verbose and i % 100 == 0:\n",
        "          print(f'Iteration {i}: Loss = {self.loss[-1]:.4f}, Accuracy = {self.accuracy[-1]:.4f}')\n",
        "\n",
        "    def get_loss(self, loss: str = \"mle\") -> None:\n",
        "      \"\"\"\n",
        "      Get the loss function.\n",
        "\n",
        "      Parameters\n",
        "      ----------\n",
        "      loss : str\n",
        "          The loss function to use.\n",
        "          Availible options: 'mle', 'cross_entropy'.\n",
        "      \"\"\"\n",
        "      if loss == \"mle\":\n",
        "        self.loss_func = maximun_likelihood\n",
        "      elif loss == \"cross_entropy\":\n",
        "        self.loss_func = cross_entropy\n",
        "      else:\n",
        "        raise ValueError(\"Invalid loss function\")\n",
        "\n",
        "    def predict_proba(self, X: np.ndarray) -> np.ndarray:\n",
        "      \"\"\"\n",
        "      Predict the probability of each class for each sample.\n",
        "\n",
        "      Parameters\n",
        "      ----------\n",
        "      X : np.ndarray\n",
        "          The input data.\n",
        "\n",
        "      Returns\n",
        "      -------\n",
        "      np.ndarray\n",
        "          The predicted probabilities.\n",
        "      \"\"\"\n",
        "      y_pred = np.dot(X, self.weights) + self.bias\n",
        "      return softmax(y_pred)\n",
        "\n",
        "    def predict(self, X: np.ndarray) -> np.ndarray:\n",
        "      \"\"\"\n",
        "      Predict the class of each sample.\n",
        "\n",
        "      Parameters\n",
        "      ----------\n",
        "      X : np.ndarray\n",
        "          The input data.\n",
        "\n",
        "      Returns\n",
        "      -------\n",
        "      np.ndarray\n",
        "          The predicted classes.\n",
        "      \"\"\"\n",
        "      return np.argmax(self.predict_proba(X), axis=1)\n",
        "\n",
        "    def score(self, X: np.ndarray, y: np.ndarray):\n",
        "      \"\"\"\n",
        "      Compute the accuracy of the model.\n",
        "\n",
        "      Parameters\n",
        "      ----------\n",
        "      X : np.ndarray\n",
        "          The input data.\n",
        "      y : np.ndarray\n",
        "          The target data.\n",
        "\n",
        "      Returns\n",
        "      -------\n",
        "      float\n",
        "          The accuracy of the model.\n",
        "      \"\"\"\n",
        "      return np.mean(self.predict(X) == y)\n",
        "\n",
        "    def save(self, path: str = 'model.npz') -> None:\n",
        "      \"\"\"\n",
        "      Save the model to a file.\n",
        "\n",
        "      Parameters\n",
        "      ----------\n",
        "      path : str, optional\n",
        "          The path to save the model to, by default 'model.npz'.\n",
        "      \"\"\"\n",
        "\n",
        "      if not os.path.exists(path):\n",
        "        os.makedirs(os.path.dirname(path), exist_ok=True)\n",
        "\n",
        "      np.savez(path, weights=self.weights, bias=self.bias)\n",
        "\n",
        "    def load(self, path: str = 'model.npz') -> None:\n",
        "      \"\"\"\n",
        "      Load the model from a file.\n",
        "\n",
        "      Parameters\n",
        "      ----------\n",
        "      path : str, optional\n",
        "          The path to load the model from, by default 'model.npz'.\n",
        "      \"\"\"\n",
        "      data = np.load(path)\n",
        "      self.weights = data['weights']\n",
        "      self.bias = data['bias']"
      ],
      "metadata": {
        "id": "NdCcjtUqvI_F"
      },
      "id": "NdCcjtUqvI_F",
      "execution_count": 265,
      "outputs": []
    },
    {
      "cell_type": "markdown",
      "source": [
        "## Train model"
      ],
      "metadata": {
        "id": "CHK1NCUSnspI"
      },
      "id": "CHK1NCUSnspI"
    },
    {
      "cell_type": "code",
      "source": [
        "X, y = load_iris(return_X_y=True)\n",
        "\n",
        "X_train, X_test, y_train, y_test = train_test_split(X, y, test_size=0.2, random_state=69)\n",
        "\n",
        "print(X_train.shape, X_test.shape, y_train.shape, y_test.shape)\n",
        "print(f\"Numbers of classes: {len(np.unique(y))}\")"
      ],
      "metadata": {
        "colab": {
          "base_uri": "https://localhost:8080/"
        },
        "id": "YpsJw5Xhmmxr",
        "outputId": "a5ad001b-f894-417b-a012-962f588d53e6"
      },
      "id": "YpsJw5Xhmmxr",
      "execution_count": 266,
      "outputs": [
        {
          "output_type": "stream",
          "name": "stdout",
          "text": [
            "(120, 4) (30, 4) (120,) (30,)\n",
            "Numbers of classes: 3\n"
          ]
        }
      ]
    },
    {
      "cell_type": "code",
      "source": [
        "model = LogisticRegression()\n",
        "model.fit(X_train, y_train, loss='cross_entropy', seed=71, verbose=True)"
      ],
      "metadata": {
        "colab": {
          "base_uri": "https://localhost:8080/"
        },
        "id": "ohlpG2a-vXOc",
        "outputId": "e97cd60b-ec4d-470c-f01a-c1096132b6bf"
      },
      "id": "ohlpG2a-vXOc",
      "execution_count": 267,
      "outputs": [
        {
          "output_type": "stream",
          "name": "stdout",
          "text": [
            "Iteration 0: Loss = 0.3662, Accuracy = 0.2083\n",
            "Iteration 100: Loss = 0.3471, Accuracy = 0.7500\n",
            "Iteration 200: Loss = 0.3313, Accuracy = 0.7917\n",
            "Iteration 300: Loss = 0.3173, Accuracy = 0.7500\n",
            "Iteration 400: Loss = 0.3047, Accuracy = 0.7500\n",
            "Iteration 500: Loss = 0.2934, Accuracy = 0.7500\n",
            "Iteration 600: Loss = 0.2832, Accuracy = 0.7500\n",
            "Iteration 700: Loss = 0.2740, Accuracy = 0.7500\n",
            "Iteration 800: Loss = 0.2657, Accuracy = 0.7500\n",
            "Iteration 900: Loss = 0.2582, Accuracy = 0.7500\n"
          ]
        }
      ]
    },
    {
      "cell_type": "code",
      "source": [
        "model.score(X_test, y_test)"
      ],
      "metadata": {
        "colab": {
          "base_uri": "https://localhost:8080/"
        },
        "id": "lRiZzAuY3LYF",
        "outputId": "f654fb48-dbd4-418d-fb3c-405528833a38"
      },
      "id": "lRiZzAuY3LYF",
      "execution_count": 268,
      "outputs": [
        {
          "output_type": "execute_result",
          "data": {
            "text/plain": [
              "0.8666666666666667"
            ]
          },
          "metadata": {},
          "execution_count": 268
        }
      ]
    },
    {
      "cell_type": "code",
      "source": [
        "plt.plot(model.accuracy, label='Accuracy')\n",
        "plt.plot(model.loss, label='Loss')\n",
        "plt.ylabel('Loss/Accuracy')\n",
        "plt.xlabel('Iterations')\n",
        "plt.legend()\n",
        "plt.show()"
      ],
      "metadata": {
        "colab": {
          "base_uri": "https://localhost:8080/",
          "height": 451
        },
        "id": "TeEYI_7H6tP7",
        "outputId": "afac7865-1572-4495-b25c-de1c9546b42f"
      },
      "id": "TeEYI_7H6tP7",
      "execution_count": 269,
      "outputs": [
        {
          "output_type": "display_data",
          "data": {
            "text/plain": [
              "<Figure size 640x480 with 1 Axes>"
            ],
            "image/png": "[encoded data removed]"
          },
          "metadata": {}
        }
      ]
    }
  ],
  "metadata": {
    "kernelspec": {
      "display_name": "Python 3",
      "language": "python",
      "name": "python3"
    },
    "language_info": {
      "codemirror_mode": {
        "name": "ipython",
        "version": 3
      },
      "file_extension": ".py",
      "mimetype": "text/x-python",
      "name": "python",
      "nbconvert_exporter": "python",
      "pygments_lexer": "ipython3",
      "version": "3.9.1"
    },
    "colab": {
      "provenance": [],
      "include_colab_link": true
    }
  },
  "nbformat": 4,
  "nbformat_minor": 5
}