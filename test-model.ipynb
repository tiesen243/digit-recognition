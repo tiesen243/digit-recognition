{
 "cells": [
  {
   "cell_type": "code",
   "execution_count": null,
   "metadata": {},
   "outputs": [],
   "source": [
    "import cv2\n",
    "import numpy as np\n",
    "\n",
    "import matplotlib.pyplot as plt\n",
    "\n",
    "import dill"
   ]
  },
  {
   "cell_type": "code",
   "execution_count": null,
   "metadata": {},
   "outputs": [],
   "source": [
    "dill.load_session(\"model.db\")"
   ]
  },
  {
   "cell_type": "code",
   "execution_count": null,
   "metadata": {},
   "outputs": [],
   "source": [
    "# Read the image\n",
    "image = cv2.imread(f\"imgs/{input('Enter the name of image: ')}\")\n",
    "# image = cv2.bitwise_not(image)"
   ]
  },
  {
   "cell_type": "code",
   "execution_count": null,
   "metadata": {},
   "outputs": [],
   "source": [
    "# Preprocess the image\n",
    "image = cv2.resize(image, (28 * 4, 28 * 2))\n",
    "image = cv2.cvtColor(image, cv2.COLOR_BGR2GRAY)\n",
    "\n",
    "plt.imshow(image, cmap=\"gray\")\n",
    "plt.axis(\"off\")\n",
    "plt.show()"
   ]
  },
  {
   "cell_type": "code",
   "execution_count": null,
   "metadata": {},
   "outputs": [],
   "source": [
    "# Split the image into 8 parts\n",
    "divisions = np.array(list(np.hsplit(i, 4) for i in np.vsplit(image, 2)))\n",
    "\n",
    "digits = divisions.reshape(8, 28, 28)\n",
    "labels = [2, 5, 7, 9, 1, 4, 3, 6]\n",
    "\n",
    "# Display the image\n",
    "fig, axs = plt.subplots(2, 4, figsize=(10, 5))\n",
    "for i, ax in enumerate(axs.flat):\n",
    "    ax.imshow(digits[i], cmap=\"gray\")\n",
    "    ax.set_title(f\"Label: {labels[i]}\")\n",
    "    ax.axis(\"off\")\n",
    "\n",
    "plt.show()"
   ]
  },
  {
   "cell_type": "code",
   "execution_count": null,
   "metadata": {},
   "outputs": [],
   "source": [
    "digits = digits.reshape(8, 1, 28, 28)\n",
    "digits = digits.astype(np.float32) / 255"
   ]
  },
  {
   "cell_type": "code",
   "execution_count": null,
   "metadata": {},
   "outputs": [],
   "source": [
    "pred = model.predict(digits)"
   ]
  },
  {
   "cell_type": "code",
   "execution_count": null,
   "metadata": {},
   "outputs": [],
   "source": [
    "fig, ax = plt.subplots(2, 4, figsize=(10, 5))\n",
    "\n",
    "for i in range(len(digits)):\n",
    "    ax[i // 4, i % 4].imshow(digits[i].reshape(28, 28), cmap=\"gray\")\n",
    "    ax[i // 4, i % 4].set_title(\n",
    "        f\"True: {labels[i]}\\nPred: {np.argmax(pred[i])}\",\n",
    "        color=\"green\" if labels[i] == np.argmax(pred[i]) else \"red\",\n",
    "    )\n",
    "    ax[i // 4, i % 4].axis(\"off\")\n",
    "\n",
    "\n",
    "plt.tight_layout()\n",
    "plt.show()"
   ]
  }
 ],
 "metadata": {
  "kernelspec": {
   "display_name": "digit-recognition",
   "language": "python",
   "name": "python3"
  },
  "language_info": {
   "codemirror_mode": {
    "name": "ipython",
    "version": 3
   },
   "file_extension": ".py",
   "mimetype": "text/x-python",
   "name": "python",
   "nbconvert_exporter": "python",
   "pygments_lexer": "ipython3",
   "version": "3.11.9"
  }
 },
 "nbformat": 4,
 "nbformat_minor": 2
}
