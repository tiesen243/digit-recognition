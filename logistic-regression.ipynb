{
  "cells": [
    {
      "cell_type": "markdown",
      "metadata": {
        "id": "view-in-github",
        "colab_type": "text"
      },
      "source": [
        "<a href=\"https://colab.research.google.com/github/tiesen243/digit-recognition/blob/main/logistic-regression.ipynb\" target=\"_parent\"><img src=\"https://colab.research.google.com/assets/colab-badge.svg\" alt=\"Open In Colab\"/></a>"
      ]
    },
    {
      "cell_type": "code",
      "execution_count": null,
      "id": "preceding-recorder",
      "metadata": {
        "id": "preceding-recorder"
      },
      "outputs": [],
      "source": [
        "# Generate a dataset\n",
        "\n",
        "# Fit three classifiers\n",
        "\n",
        "# To make a prediction - pick max"
      ]
    },
    {
      "cell_type": "markdown",
      "source": [
        "## Import libraries"
      ],
      "metadata": {
        "id": "Bzh-P0oXnxMz"
      },
      "id": "Bzh-P0oXnxMz"
    },
    {
      "cell_type": "code",
      "source": [
        "import numpy as np\n",
        "import matplotlib.pyplot as plt\n",
        "\n",
        "from sklearn.datasets import load_iris\n",
        "from sklearn.model_selection import train_test_split"
      ],
      "metadata": {
        "id": "HajFPHuq3qjU"
      },
      "id": "HajFPHuq3qjU",
      "execution_count": null,
      "outputs": []
    },
    {
      "cell_type": "markdown",
      "source": [
        "## Model"
      ],
      "metadata": {
        "id": "TOdrckjYn0_-"
      },
      "id": "TOdrckjYn0_-"
    },
    {
      "cell_type": "markdown",
      "source": [
        "### Utils"
      ],
      "metadata": {
        "id": "XRI4EN9g4ucQ"
      },
      "id": "XRI4EN9g4ucQ"
    },
    {
      "cell_type": "code",
      "source": [
        "def softmax(z: np.ndarray) -> np.ndarray:\n",
        "  return np.exp(z) / np.sum(np.exp(z), axis=1).reshape(-1,1)"
      ],
      "metadata": {
        "id": "Zweeqztan6VR"
      },
      "id": "Zweeqztan6VR",
      "execution_count": null,
      "outputs": []
    },
    {
      "cell_type": "code",
      "source": [
        "def cross_entropy(y: np.ndarray, probs: np.ndarray):\n",
        "  return -1 * np.mean(y * np.log(probs))"
      ],
      "metadata": {
        "id": "to_sKDR74gA2"
      },
      "id": "to_sKDR74gA2",
      "execution_count": null,
      "outputs": []
    },
    {
      "cell_type": "code",
      "source": [
        "def maximun_likelihood(y: np.ndarray, probs: np.ndarray):\n",
        "  return -1 * np.mean(np.log(probs[np.arange(len(y)), y]))"
      ],
      "metadata": {
        "id": "BnA0s_7S9q7s"
      },
      "id": "BnA0s_7S9q7s",
      "execution_count": null,
      "outputs": []
    },
    {
      "cell_type": "code",
      "source": [
        "def one_hot(y: np.ndarray) -> np.ndarray:\n",
        "  return np.eye(len(np.unique(y)))[y]"
      ],
      "metadata": {
        "id": "GmsOVtjR36aL"
      },
      "id": "GmsOVtjR36aL",
      "execution_count": null,
      "outputs": []
    },
    {
      "cell_type": "markdown",
      "source": [
        "### LogisticRegression class"
      ],
      "metadata": {
        "id": "eFYfgmL74xfP"
      },
      "id": "eFYfgmL74xfP"
    },
    {
      "cell_type": "code",
      "source": [
        "class LogisticRegression:\n",
        "    def __init__(self, lr: float = 0.001, n_iter: int = 1000, loss: str = 'mle'):\n",
        "        self.lr = lr\n",
        "        self.n_iter = n_iter\n",
        "\n",
        "        if loss == 'mle':\n",
        "          self.loss_func = maximun_likelihood\n",
        "        elif loss == 'cross_entropy':\n",
        "          self.loss_func = cross_entropy\n",
        "        else:\n",
        "          raise ValueError('Loss function not supported')\n",
        "\n",
        "        self.weights: np.ndarray\n",
        "        self.bias: np.ndarray\n",
        "\n",
        "        self.loss: list = []\n",
        "        self.accuracy: list = []\n",
        "\n",
        "    def fit(self, X: np.ndarray, y: np.ndarray, verbose: bool = False):\n",
        "      n_samples, n_features = X.shape\n",
        "      n_classes = len(np.unique(y))\n",
        "\n",
        "      self.weights = np.zeros((n_features, n_classes))\n",
        "      self.bias = np.zeros(n_classes)\n",
        "\n",
        "      X_train, X_val, y_train, y_val = train_test_split(X, y, test_size=0.1)\n",
        "\n",
        "      for i in range(self.n_iter):\n",
        "        y_pred = self.predict_proba(X_train)\n",
        "\n",
        "        self.loss.append(self.loss_func(one_hot(y_train), y_pred))\n",
        "        self.accuracy.append(self.score(X_val, y_val))\n",
        "\n",
        "        error = y_pred - one_hot(y_train)\n",
        "        dw = (1 / n_samples) * np.dot(X_train.T, error)\n",
        "        db = (1 / n_samples) * np.sum(error)\n",
        "\n",
        "        self.weights -= self.lr * dw\n",
        "        self.bias -= self.lr * db\n",
        "\n",
        "        if verbose and i % 100 == 0:\n",
        "          print(f'Iteration {i}: Loss = {self.loss[-1]:.4f}, Accuracy = {self.accuracy[-1]:.4f}')\n",
        "\n",
        "\n",
        "    def predict_proba(self, X: np.ndarray) -> np.ndarray:\n",
        "      y_pred = np.dot(X, self.weights) + self.bias\n",
        "      return softmax(y_pred)\n",
        "\n",
        "    def predict(self, X: np.ndarray) -> np.ndarray:\n",
        "      return np.argmax(self.predict_proba(X), axis=1)\n",
        "\n",
        "    def score(self, X: np.ndarray, y: np.ndarray):\n",
        "      return np.mean(self.predict(X) == y)"
      ],
      "metadata": {
        "id": "NdCcjtUqvI_F"
      },
      "id": "NdCcjtUqvI_F",
      "execution_count": null,
      "outputs": []
    },
    {
      "cell_type": "markdown",
      "source": [
        "## Train model"
      ],
      "metadata": {
        "id": "CHK1NCUSnspI"
      },
      "id": "CHK1NCUSnspI"
    },
    {
      "cell_type": "code",
      "source": [
        "X, y = load_iris(return_X_y=True)\n",
        "\n",
        "X_train, X_test, y_train, y_test = train_test_split(X, y, test_size=0.2, random_state=69)\n",
        "\n",
        "print(X_train.shape, X_test.shape, y_train.shape, y_test.shape)\n",
        "print(f\"Numbers of classes: {len(np.unique(y))}\")"
      ],
      "metadata": {
        "colab": {
          "base_uri": "https://localhost:8080/"
        },
        "id": "YpsJw5Xhmmxr",
        "outputId": "d0960d04-ac25-4bbf-b202-f9244f372710"
      },
      "id": "YpsJw5Xhmmxr",
      "execution_count": null,
      "outputs": [
        {
          "output_type": "stream",
          "name": "stdout",
          "text": [
            "(120, 4) (30, 4) (120,) (30,)\n",
            "Numbers of classes: 3\n"
          ]
        }
      ]
    },
    {
      "cell_type": "code",
      "source": [
        "model = LogisticRegression(loss='cross_entropy')\n",
        "model.fit(X_train, y_train, verbose=True)"
      ],
      "metadata": {
        "colab": {
          "base_uri": "https://localhost:8080/"
        },
        "id": "ohlpG2a-vXOc",
        "outputId": "e3a7e403-0564-46b9-8fb5-6753aa004937"
      },
      "id": "ohlpG2a-vXOc",
      "execution_count": null,
      "outputs": [
        {
          "output_type": "stream",
          "name": "stdout",
          "text": [
            "Iteration 0: Loss = 0.3662, Accuracy = 0.2500\n",
            "Iteration 100: Loss = 0.3445, Accuracy = 0.4167\n",
            "Iteration 200: Loss = 0.3281, Accuracy = 0.6667\n",
            "Iteration 300: Loss = 0.3135, Accuracy = 0.7500\n",
            "Iteration 400: Loss = 0.3005, Accuracy = 0.7500\n",
            "Iteration 500: Loss = 0.2889, Accuracy = 0.7500\n",
            "Iteration 600: Loss = 0.2786, Accuracy = 0.7500\n",
            "Iteration 700: Loss = 0.2693, Accuracy = 0.7500\n",
            "Iteration 800: Loss = 0.2610, Accuracy = 0.8333\n",
            "Iteration 900: Loss = 0.2535, Accuracy = 0.8333\n"
          ]
        }
      ]
    },
    {
      "cell_type": "code",
      "source": [
        "model.score(X_test, y_test)"
      ],
      "metadata": {
        "colab": {
          "base_uri": "https://localhost:8080/"
        },
        "id": "lRiZzAuY3LYF",
        "outputId": "4322424b-e95f-414c-d0f7-582f49e105df"
      },
      "id": "lRiZzAuY3LYF",
      "execution_count": null,
      "outputs": [
        {
          "output_type": "execute_result",
          "data": {
            "text/plain": [
              "0.8666666666666667"
            ]
          },
          "metadata": {},
          "execution_count": 991
        }
      ]
    },
    {
      "cell_type": "code",
      "source": [
        "plt.plot(model.accuracy, label='Accuracy')\n",
        "plt.plot(model.loss, label='Loss')\n",
        "plt.ylabel('Loss/Accuracy')\n",
        "plt.xlabel('Iterations')\n",
        "plt.legend()\n",
        "plt.show()"
      ],
      "metadata": {
        "colab": {
          "base_uri": "https://localhost:8080/",
          "height": 449
        },
        "id": "TeEYI_7H6tP7",
        "outputId": "b867f783-73cf-46e8-979b-ce879b8f45bc"
      },
      "id": "TeEYI_7H6tP7",
      "execution_count": null,
      "outputs": [
        {
          "output_type": "display_data",
          "data": {
            "text/plain": [
              "<Figure size 640x480 with 1 Axes>"
            ],
            "image/png": "[encoded data removed]"
          },
          "metadata": {}
        }
      ]
    }
  ],
  "metadata": {
    "kernelspec": {
      "display_name": "Python 3",
      "language": "python",
      "name": "python3"
    },
    "language_info": {
      "codemirror_mode": {
        "name": "ipython",
        "version": 3
      },
      "file_extension": ".py",
      "mimetype": "text/x-python",
      "name": "python",
      "nbconvert_exporter": "python",
      "pygments_lexer": "ipython3",
      "version": "3.9.1"
    },
    "colab": {
      "provenance": [],
      "include_colab_link": true
    }
  },
  "nbformat": 4,
  "nbformat_minor": 5
}