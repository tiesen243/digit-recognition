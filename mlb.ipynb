{
 "cells": [
  {
   "cell_type": "code",
   "execution_count": 356,
   "metadata": {},
   "outputs": [],
   "source": [
    "import numpy as np\n",
    "import matplotlib.pyplot as plt\n",
    "from tqdm import tqdm"
   ]
  },
  {
   "cell_type": "markdown",
   "metadata": {},
   "source": [
    "### 1. Base Layer class"
   ]
  },
  {
   "cell_type": "code",
   "execution_count": 357,
   "metadata": {},
   "outputs": [],
   "source": [
    "class Layer:\n",
    "    def __init__(self):\n",
    "        self.input = None\n",
    "        self.output = None\n",
    "\n",
    "    def forward(self, input):\n",
    "        # TODO: return output\n",
    "        pass\n",
    "\n",
    "    def backward(self, output_gradient, learning_rate):\n",
    "        # TODO: update parameters and return input gradient\n",
    "        pass"
   ]
  },
  {
   "cell_type": "markdown",
   "metadata": {},
   "source": [
    "### 2. Activation Functions class"
   ]
  },
  {
   "cell_type": "code",
   "execution_count": 358,
   "metadata": {},
   "outputs": [],
   "source": [
    "class Activation(Layer):\n",
    "    def __init__(self, activation: str = \"relu\"):\n",
    "        self.activation = activation\n",
    "\n",
    "    def tanh(sefl, x):\n",
    "        return np.tanh(x)\n",
    "\n",
    "    def d_tanh(self, x):\n",
    "        return 1 - np.tanh(x) ** 2\n",
    "\n",
    "    def sigmoid(self, x):\n",
    "        return 1 / (1 + np.exp(-x))\n",
    "\n",
    "    def d_sigmoid(self, x):\n",
    "        return self.sigmoid(x) * (1 - self.sigmoid(x))\n",
    "\n",
    "    def relu(self, x):\n",
    "        return np.maximum(0, x)\n",
    "\n",
    "    def d_relu(self, x):\n",
    "        return np.where(x > 0, 1, 0)\n",
    "\n",
    "    def get_activation(self, X):\n",
    "        if self.activation == \"tanh\":\n",
    "            return self.tanh(X)\n",
    "        elif self.activation == \"sigmoid\":\n",
    "            return self.sigmoid(X)\n",
    "        elif self.activation == \"relu\":\n",
    "            return self.relu(X)\n",
    "        else:\n",
    "            raise ValueError(\"Invalid activation function\")\n",
    "\n",
    "    def get_d_activation(self, dZ):\n",
    "        if self.activation == \"tanh\":\n",
    "            return self.d_tanh(dZ)\n",
    "        elif self.activation == \"sigmoid\":\n",
    "            return self.d_sigmoid(dZ)\n",
    "        elif self.activation == \"relu\":\n",
    "            return self.d_relu(dZ)\n",
    "        else:\n",
    "            raise ValueError(\"Invalid activation function\")\n",
    "\n",
    "    def forward(self, X):\n",
    "        self.X = X\n",
    "        return self.get_activation(self.X)\n",
    "\n",
    "    def backward(self, dZ, learning_rate):\n",
    "        return np.multiply(dZ, self.get_d_activation(self.X))"
   ]
  },
  {
   "cell_type": "markdown",
   "metadata": {},
   "source": [
    "### 3. Dense Layer class"
   ]
  },
  {
   "cell_type": "code",
   "execution_count": 359,
   "metadata": {},
   "outputs": [],
   "source": [
    "class Dense(Layer):\n",
    "    def __init__(self, input_size: int, output_size: int) -> None:\n",
    "        \"\"\"\n",
    "        :param input_size: size of input vector\n",
    "        :param output_size: size of output vector\n",
    "        \"\"\"\n",
    "        self.weights = np.random.randn(output_size, input_size)\n",
    "        self.bias = np.random.randn(output_size, 1)\n",
    "\n",
    "    def forward(self, input: np.ndarray) -> np.ndarray:\n",
    "        \"\"\"\n",
    "        :param input: input vector\n",
    "        \"\"\"\n",
    "        self.input = input\n",
    "        return np.dot(self.weights, self.input) + self.bias\n",
    "\n",
    "    def backward(self, dZ: np.ndarray, lr: float) -> np.ndarray:\n",
    "        \"\"\"\n",
    "        :param dZ: gradient of loss with respect to output\n",
    "        :param lr: learning rate\n",
    "        \"\"\"\n",
    "        dW = np.dot(dZ, self.input.T)\n",
    "        dX = np.dot(self.weights.T, dZ)\n",
    "        self.weights -= lr * dW\n",
    "        self.bias -= lr * dZ\n",
    "        return dX"
   ]
  },
  {
   "cell_type": "markdown",
   "metadata": {},
   "source": [
    "### 4. Loss Functions class"
   ]
  },
  {
   "cell_type": "code",
   "execution_count": 360,
   "metadata": {},
   "outputs": [],
   "source": [
    "class Loss:\n",
    "    def __init__(\n",
    "        self, loss: str = \"mse\", y_true: np.ndarray = None, y_pred: np.ndarray = None\n",
    "    ) -> None:\n",
    "        \"\"\"\n",
    "        :param loss: str, loss function (Available: mse, bce)\n",
    "        :param y_true: np.ndarray, true values\n",
    "        :param y_pred: np.ndarray, predicted values\n",
    "        \"\"\"\n",
    "        self.loss = loss\n",
    "        self.y_true = y_true\n",
    "        self.y_pred = y_pred\n",
    "\n",
    "    # Mean Squared Error\n",
    "    def mse(self) -> float:\n",
    "        return np.mean(np.power(self.y_true - self.y_pred, 2))\n",
    "\n",
    "    def d_mse(self) -> float:\n",
    "        return 2 * (self.y_pred - self.y_true) / np.size(self.y_true)\n",
    "\n",
    "    # Binary Cross Entropy\n",
    "    def bce(self) -> float:\n",
    "        return np.mean(\n",
    "            -self.y_true * np.log(self.y_pred)\n",
    "            - (1 - self.y_true) * np.log(1 - self.y_pred)\n",
    "        )\n",
    "\n",
    "    def d_bce(self) -> float:\n",
    "        return (\n",
    "            (1 - self.y_true) / (1 - self.y_pred) - self.y_true / self.y_pred\n",
    "        ) / np.size(self.y_true)\n",
    "\n",
    "    def get_loss(self) -> float:\n",
    "        if self.loss == \"mse\":\n",
    "            return self.mse()\n",
    "        if self.loss == \"bce\":\n",
    "            return self.bce()\n",
    "\n",
    "    def get_d_loss(self) -> float:\n",
    "        if self.loss == \"mse\":\n",
    "            return self.d_mse()\n",
    "        if self.loss == \"bce\":\n",
    "            return self.d_bce()"
   ]
  },
  {
   "cell_type": "markdown",
   "metadata": {},
   "source": [
    "### 5. Multi Layer Perceptron class"
   ]
  },
  {
   "cell_type": "code",
   "execution_count": 361,
   "metadata": {},
   "outputs": [],
   "source": [
    "class MLP:\n",
    "    def __init__(self, layer: list[Layer]) -> None:\n",
    "        self.layers = layer\n",
    "\n",
    "    def summary(self) -> None:\n",
    "        len_assigned = [45, 26, 15]\n",
    "        count = {\"Dense\": 0, \"Activation\": 0, \"Input\": 0}\n",
    "        col_names = [\"Layer\", \"Output Shape\", \"Param #\"]\n",
    "\n",
    "        print(\"Model: Multi Layer Perceptron\")\n",
    "        print(\"-\" * sum(len_assigned))\n",
    "\n",
    "        text = \"\"\n",
    "        for i in range(len(col_names)):\n",
    "            text += col_names[i] + \" \" * (len_assigned[i] - len(col_names[i]))\n",
    "        print(text)\n",
    "\n",
    "        print(\"=\" * sum(len_assigned))\n",
    "\n",
    "        for i in range(len(self.layers)):\n",
    "            layer_name = self.layers[i].__class__.__name__\n",
    "            if layer_name == \"Activation\":\n",
    "                continue\n",
    "\n",
    "            name = f\"{layer_name.lower()}_{count[layer_name]+1}\"\n",
    "            count[layer_name] += 1\n",
    "\n",
    "            # Output Shape\n",
    "            try:\n",
    "                out = \"(None, \"\n",
    "                for j in range(len(self.layers[i].weights.shape)):\n",
    "                    out += f\"{self.layers[i].weights.shape[j]}, \"\n",
    "                out = out[:-2] + \")\"\n",
    "            except AttributeError:\n",
    "                out = \"(None, 1)\"\n",
    "\n",
    "            # Number of Parameters\n",
    "            if layer_name == \"Dense\":\n",
    "                param = self.layers[i].weights.size + self.layers[i].bias.size\n",
    "            else:\n",
    "                param = 0\n",
    "\n",
    "            names = [name, out, str(param)]\n",
    "            text = \"\"\n",
    "            for i in range(len(col_names)):\n",
    "                text += names[i] + \" \" * (len_assigned[i] - len(names[i]))\n",
    "            print(text)\n",
    "\n",
    "    def fit(\n",
    "        self,\n",
    "        X: np.ndarray,\n",
    "        y: np.ndarray,\n",
    "        epochs: int,\n",
    "        learning_rate: float,\n",
    "        verbose: bool = False,\n",
    "    ) -> None:\n",
    "        self.history = {\n",
    "            \"Training Loss\": [],\n",
    "            \"Training Accuracy\": [],\n",
    "        }\n",
    "\n",
    "        for epoch in range(epochs):\n",
    "            cost_train = 0\n",
    "            y_pred_train = []\n",
    "            y_train = []\n",
    "\n",
    "            if verbose:\n",
    "                print(f\"Epoch: {epoch+1}/{epochs}\")\n",
    "\n",
    "            for i in range(len(X)):\n",
    "                Z = X[i]\n",
    "\n",
    "                for layer in self.layers:\n",
    "                    Z = layer.forward(Z)\n",
    "\n",
    "                y_pred_train += np.abs(np.round(Z)).tolist()\n",
    "                y_train += (y[i]).tolist()\n",
    "\n",
    "                cost_train += Loss(y_true=y[i], y_pred=Z).get_loss()\n",
    "\n",
    "                dZ = Loss(y_true=y[i], y_pred=Z).get_d_loss()\n",
    "                for layer in reversed(self.layers):\n",
    "                    dZ = layer.backward(dZ, learning_rate)\n",
    "\n",
    "            text = \"Training Loss: \" + str(round(cost_train, 4)) + \" - \"\n",
    "            self.history[\"Training Loss\"].append(cost_train)\n",
    "\n",
    "            acc = np.sum(np.array(y_pred_train) == np.array(y_train)) / len(y_train)\n",
    "            text += \"Training Accuracy: \" + str(round(acc, 4))\n",
    "            self.history[\"Training Accuracy\"].append(acc)\n",
    "\n",
    "            if verbose:\n",
    "                print(text)\n",
    "\n",
    "    def loss_plot(self) -> None:\n",
    "        plt.plot(self.history[\"Training Loss\"], label=\"Training Loss\")\n",
    "        plt.title(\"Loss\")\n",
    "        plt.xlabel(\"Epoch\")\n",
    "        plt.ylabel(\"Loss\")\n",
    "        plt.legend()\n",
    "        plt.show()\n",
    "\n",
    "    def accuracy_plot(self) -> None:\n",
    "        plt.plot(self.history[\"Training Accuracy\"], label=\"Training Accuracy\")\n",
    "        plt.title(\"Accuracy\")\n",
    "        plt.xlabel(\"Epoch\")\n",
    "        plt.ylabel(\"Accuracy\")\n",
    "        plt.legend()\n",
    "        plt.show()\n",
    "\n",
    "    def predict(self, X: np.ndarray):\n",
    "        out = []\n",
    "        for x in X:\n",
    "            for layer in self.layers:\n",
    "                x = layer.forward(x).flatten()\n",
    "            out.append(x)\n",
    "\n",
    "        return np.array(out)"
   ]
  },
  {
   "cell_type": "markdown",
   "metadata": {},
   "source": [
    "### Testing Model with XOR gate"
   ]
  },
  {
   "cell_type": "code",
   "execution_count": 362,
   "metadata": {},
   "outputs": [],
   "source": [
    "X = np.reshape([[0, 0], [0, 1], [1, 0], [1, 1]], (4, 2, 1))\n",
    "Y = np.reshape([[0], [1], [1], [0]], (4, 1, 1))"
   ]
  },
  {
   "cell_type": "code",
   "execution_count": 363,
   "metadata": {},
   "outputs": [],
   "source": [
    "epochs = 1000\n",
    "lr = 0.01"
   ]
  },
  {
   "cell_type": "code",
   "execution_count": 364,
   "metadata": {},
   "outputs": [],
   "source": [
    "mlp = MLP([Dense(2, 3), Activation(\"tanh\"), Dense(3, 1), Activation(\"tanh\")])"
   ]
  },
  {
   "cell_type": "code",
   "execution_count": 365,
   "metadata": {},
   "outputs": [
    {
     "name": "stdout",
     "output_type": "stream",
     "text": [
      "Model: Multi Layer Perceptron\n",
      "--------------------------------------------------------------------------------------\n",
      "Layer                                        Output Shape              Param #        \n",
      "======================================================================================\n",
      "dense_1                                      (None, 3, 2)              9              \n",
      "dense_2                                      (None, 1, 3)              4              \n"
     ]
    }
   ],
   "source": [
    "mlp.summary()"
   ]
  },
  {
   "cell_type": "code",
   "execution_count": 366,
   "metadata": {},
   "outputs": [],
   "source": [
    "mlp.fit(X, Y, epochs, lr, verbose=False)"
   ]
  },
  {
   "cell_type": "code",
   "execution_count": 367,
   "metadata": {},
   "outputs": [
    {
     "data": {
      "image/png": "[encoded data removed]",
      "text/plain": [
       "<Figure size 640x480 with 1 Axes>"
      ]
     },
     "metadata": {},
     "output_type": "display_data"
    }
   ],
   "source": [
    "mlp.loss_plot()"
   ]
  },
  {
   "cell_type": "code",
   "execution_count": 368,
   "metadata": {},
   "outputs": [
    {
     "data": {
      "image/png": "[encoded data removed]",
      "text/plain": [
       "<Figure size 640x480 with 1 Axes>"
      ]
     },
     "metadata": {},
     "output_type": "display_data"
    }
   ],
   "source": [
    "mlp.accuracy_plot()"
   ]
  },
  {
   "cell_type": "code",
   "execution_count": 369,
   "metadata": {},
   "outputs": [
    {
     "data": {
      "text/plain": [
       "array([[0.],\n",
       "       [1.],\n",
       "       [1.],\n",
       "       [0.]])"
      ]
     },
     "execution_count": 369,
     "metadata": {},
     "output_type": "execute_result"
    }
   ],
   "source": [
    "np.round(mlp.predict(X))"
   ]
  }
 ],
 "metadata": {
  "kernelspec": {
   "display_name": "digit-recognition",
   "language": "python",
   "name": "python3"
  },
  "language_info": {
   "codemirror_mode": {
    "name": "ipython",
    "version": 3
   },
   "file_extension": ".py",
   "mimetype": "text/x-python",
   "name": "python",
   "nbconvert_exporter": "python",
   "pygments_lexer": "ipython3",
   "version": "3.9.12"
  }
 },
 "nbformat": 4,
 "nbformat_minor": 2
}
